{
  "cells": [
    {
      "cell_type": "markdown",
      "metadata": {
        "id": "view-in-github",
        "colab_type": "text"
      },
      "source": [
        "<a href=\"https://colab.research.google.com/github/bhavana23-8/kushala/blob/main/assinment2.ipynb\" target=\"_parent\"><img src=\"https://colab.research.google.com/assets/colab-badge.svg\" alt=\"Open In Colab\"/></a>"
      ]
    },
    {
      "cell_type": "code",
      "execution_count": null,
      "metadata": {
        "colab": {
          "base_uri": "https://localhost:8080/"
        },
        "id": "OVpdpGxdpy30",
        "outputId": "134a862c-3b5f-43d2-da38-7e753f3a77ef"
      },
      "outputs": [
        {
          "data": {
            "text/plain": [
              "price        4987898.580\n",
              "area            5310.768\n",
              "bedrooms           3.004\n",
              "bathrooms          1.308\n",
              "stories            1.848\n",
              "parking            0.740\n",
              "dtype: float64"
            ]
          },
          "execution_count": 3,
          "metadata": {},
          "output_type": "execute_result"
        }
      ],
      "source": [
        "import pandas as pd\n",
        "path=(\"/content/Excel viewer - transform and filter Excel files online with AI (6).xlsx\")\n",
        "df=pd.read_excel(path)\n",
        "df.mean(numeric_only=True)"
      ]
    },
    {
      "cell_type": "code",
      "execution_count": null,
      "metadata": {
        "colab": {
          "base_uri": "https://localhost:8080/",
          "height": 112
        },
        "id": "QD5PUhhw4AIY",
        "outputId": "d78ce8e0-fb9b-4767-9145-8593c1fbc440"
      },
      "outputs": [
        {
          "data": {
            "application/vnd.google.colaboratory.intrinsic+json": {
              "summary": "{\n  \"name\": \"df\",\n  \"rows\": 2,\n  \"fields\": [\n    {\n      \"column\": \"price\",\n      \"properties\": {\n        \"dtype\": \"number\",\n        \"std\": 494974,\n        \"min\": 3500000,\n        \"max\": 4200000,\n        \"num_unique_values\": 2,\n        \"samples\": [\n          4200000,\n          3500000\n        ],\n        \"semantic_type\": \"\",\n        \"description\": \"\"\n      }\n    },\n    {\n      \"column\": \"area\",\n      \"properties\": {\n        \"dtype\": \"number\",\n        \"std\": null,\n        \"min\": 6000.0,\n        \"max\": 6000.0,\n        \"num_unique_values\": 1,\n        \"samples\": [\n          6000.0\n        ],\n        \"semantic_type\": \"\",\n        \"description\": \"\"\n      }\n    },\n    {\n      \"column\": \"bedrooms\",\n      \"properties\": {\n        \"dtype\": \"number\",\n        \"std\": null,\n        \"min\": 3.0,\n        \"max\": 3.0,\n        \"num_unique_values\": 1,\n        \"samples\": [\n          3.0\n        ],\n        \"semantic_type\": \"\",\n        \"description\": \"\"\n      }\n    },\n    {\n      \"column\": \"bathrooms\",\n      \"properties\": {\n        \"dtype\": \"number\",\n        \"std\": null,\n        \"min\": 1.0,\n        \"max\": 1.0,\n        \"num_unique_values\": 1,\n        \"samples\": [\n          1.0\n        ],\n        \"semantic_type\": \"\",\n        \"description\": \"\"\n      }\n    },\n    {\n      \"column\": \"stories\",\n      \"properties\": {\n        \"dtype\": \"number\",\n        \"std\": null,\n        \"min\": 2.0,\n        \"max\": 2.0,\n        \"num_unique_values\": 1,\n        \"samples\": [\n          2.0\n        ],\n        \"semantic_type\": \"\",\n        \"description\": \"\"\n      }\n    },\n    {\n      \"column\": \"parking\",\n      \"properties\": {\n        \"dtype\": \"number\",\n        \"std\": null,\n        \"min\": 0.0,\n        \"max\": 0.0,\n        \"num_unique_values\": 1,\n        \"samples\": [\n          0.0\n        ],\n        \"semantic_type\": \"\",\n        \"description\": \"\"\n      }\n    }\n  ]\n}",
              "type": "dataframe"
            },
            "text/html": [
              "\n",
              "  <div id=\"df-f6e454e0-6cb1-4274-9073-5613f1e35075\" class=\"colab-df-container\">\n",
              "    <div>\n",
              "<style scoped>\n",
              "    .dataframe tbody tr th:only-of-type {\n",
              "        vertical-align: middle;\n",
              "    }\n",
              "\n",
              "    .dataframe tbody tr th {\n",
              "        vertical-align: top;\n",
              "    }\n",
              "\n",
              "    .dataframe thead th {\n",
              "        text-align: right;\n",
              "    }\n",
              "</style>\n",
              "<table border=\"1\" class=\"dataframe\">\n",
              "  <thead>\n",
              "    <tr style=\"text-align: right;\">\n",
              "      <th></th>\n",
              "      <th>price</th>\n",
              "      <th>area</th>\n",
              "      <th>bedrooms</th>\n",
              "      <th>bathrooms</th>\n",
              "      <th>stories</th>\n",
              "      <th>parking</th>\n",
              "    </tr>\n",
              "  </thead>\n",
              "  <tbody>\n",
              "    <tr>\n",
              "      <th>0</th>\n",
              "      <td>3500000</td>\n",
              "      <td>6000.0</td>\n",
              "      <td>3.0</td>\n",
              "      <td>1.0</td>\n",
              "      <td>2.0</td>\n",
              "      <td>0.0</td>\n",
              "    </tr>\n",
              "    <tr>\n",
              "      <th>1</th>\n",
              "      <td>4200000</td>\n",
              "      <td>NaN</td>\n",
              "      <td>NaN</td>\n",
              "      <td>NaN</td>\n",
              "      <td>NaN</td>\n",
              "      <td>NaN</td>\n",
              "    </tr>\n",
              "  </tbody>\n",
              "</table>\n",
              "</div>\n",
              "    <div class=\"colab-df-buttons\">\n",
              "\n",
              "  <div class=\"colab-df-container\">\n",
              "    <button class=\"colab-df-convert\" onclick=\"convertToInteractive('df-f6e454e0-6cb1-4274-9073-5613f1e35075')\"\n",
              "            title=\"Convert this dataframe to an interactive table.\"\n",
              "            style=\"display:none;\">\n",
              "\n",
              "  <svg xmlns=\"http://www.w3.org/2000/svg\" height=\"24px\" viewBox=\"0 -960 960 960\">\n",
              "    <path d=\"M120-120v-720h720v720H120Zm60-500h600v-160H180v160Zm220 220h160v-160H400v160Zm0 220h160v-160H400v160ZM180-400h160v-160H180v160Zm440 0h160v-160H620v160ZM180-180h160v-160H180v160Zm440 0h160v-160H620v160Z\"/>\n",
              "  </svg>\n",
              "    </button>\n",
              "\n",
              "  <style>\n",
              "    .colab-df-container {\n",
              "      display:flex;\n",
              "      gap: 12px;\n",
              "    }\n",
              "\n",
              "    .colab-df-convert {\n",
              "      background-color: #E8F0FE;\n",
              "      border: none;\n",
              "      border-radius: 50%;\n",
              "      cursor: pointer;\n",
              "      display: none;\n",
              "      fill: #1967D2;\n",
              "      height: 32px;\n",
              "      padding: 0 0 0 0;\n",
              "      width: 32px;\n",
              "    }\n",
              "\n",
              "    .colab-df-convert:hover {\n",
              "      background-color: #E2EBFA;\n",
              "      box-shadow: 0px 1px 2px rgba(60, 64, 67, 0.3), 0px 1px 3px 1px rgba(60, 64, 67, 0.15);\n",
              "      fill: #174EA6;\n",
              "    }\n",
              "\n",
              "    .colab-df-buttons div {\n",
              "      margin-bottom: 4px;\n",
              "    }\n",
              "\n",
              "    [theme=dark] .colab-df-convert {\n",
              "      background-color: #3B4455;\n",
              "      fill: #D2E3FC;\n",
              "    }\n",
              "\n",
              "    [theme=dark] .colab-df-convert:hover {\n",
              "      background-color: #434B5C;\n",
              "      box-shadow: 0px 1px 3px 1px rgba(0, 0, 0, 0.15);\n",
              "      filter: drop-shadow(0px 1px 2px rgba(0, 0, 0, 0.3));\n",
              "      fill: #FFFFFF;\n",
              "    }\n",
              "  </style>\n",
              "\n",
              "    <script>\n",
              "      const buttonEl =\n",
              "        document.querySelector('#df-f6e454e0-6cb1-4274-9073-5613f1e35075 button.colab-df-convert');\n",
              "      buttonEl.style.display =\n",
              "        google.colab.kernel.accessAllowed ? 'block' : 'none';\n",
              "\n",
              "      async function convertToInteractive(key) {\n",
              "        const element = document.querySelector('#df-f6e454e0-6cb1-4274-9073-5613f1e35075');\n",
              "        const dataTable =\n",
              "          await google.colab.kernel.invokeFunction('convertToInteractive',\n",
              "                                                    [key], {});\n",
              "        if (!dataTable) return;\n",
              "\n",
              "        const docLinkHtml = 'Like what you see? Visit the ' +\n",
              "          '<a target=\"_blank\" href=https://colab.research.google.com/notebooks/data_table.ipynb>data table notebook</a>'\n",
              "          + ' to learn more about interactive tables.';\n",
              "        element.innerHTML = '';\n",
              "        dataTable['output_type'] = 'display_data';\n",
              "        await google.colab.output.renderOutput(dataTable, element);\n",
              "        const docLink = document.createElement('div');\n",
              "        docLink.innerHTML = docLinkHtml;\n",
              "        element.appendChild(docLink);\n",
              "      }\n",
              "    </script>\n",
              "  </div>\n",
              "\n",
              "\n",
              "<div id=\"df-6511d4fd-4171-4ee7-8820-c98c6ac8c27a\">\n",
              "  <button class=\"colab-df-quickchart\" onclick=\"quickchart('df-6511d4fd-4171-4ee7-8820-c98c6ac8c27a')\"\n",
              "            title=\"Suggest charts\"\n",
              "            style=\"display:none;\">\n",
              "\n",
              "<svg xmlns=\"http://www.w3.org/2000/svg\" height=\"24px\"viewBox=\"0 0 24 24\"\n",
              "     width=\"24px\">\n",
              "    <g>\n",
              "        <path d=\"M19 3H5c-1.1 0-2 .9-2 2v14c0 1.1.9 2 2 2h14c1.1 0 2-.9 2-2V5c0-1.1-.9-2-2-2zM9 17H7v-7h2v7zm4 0h-2V7h2v10zm4 0h-2v-4h2v4z\"/>\n",
              "    </g>\n",
              "</svg>\n",
              "  </button>\n",
              "\n",
              "<style>\n",
              "  .colab-df-quickchart {\n",
              "      --bg-color: #E8F0FE;\n",
              "      --fill-color: #1967D2;\n",
              "      --hover-bg-color: #E2EBFA;\n",
              "      --hover-fill-color: #174EA6;\n",
              "      --disabled-fill-color: #AAA;\n",
              "      --disabled-bg-color: #DDD;\n",
              "  }\n",
              "\n",
              "  [theme=dark] .colab-df-quickchart {\n",
              "      --bg-color: #3B4455;\n",
              "      --fill-color: #D2E3FC;\n",
              "      --hover-bg-color: #434B5C;\n",
              "      --hover-fill-color: #FFFFFF;\n",
              "      --disabled-bg-color: #3B4455;\n",
              "      --disabled-fill-color: #666;\n",
              "  }\n",
              "\n",
              "  .colab-df-quickchart {\n",
              "    background-color: var(--bg-color);\n",
              "    border: none;\n",
              "    border-radius: 50%;\n",
              "    cursor: pointer;\n",
              "    display: none;\n",
              "    fill: var(--fill-color);\n",
              "    height: 32px;\n",
              "    padding: 0;\n",
              "    width: 32px;\n",
              "  }\n",
              "\n",
              "  .colab-df-quickchart:hover {\n",
              "    background-color: var(--hover-bg-color);\n",
              "    box-shadow: 0 1px 2px rgba(60, 64, 67, 0.3), 0 1px 3px 1px rgba(60, 64, 67, 0.15);\n",
              "    fill: var(--button-hover-fill-color);\n",
              "  }\n",
              "\n",
              "  .colab-df-quickchart-complete:disabled,\n",
              "  .colab-df-quickchart-complete:disabled:hover {\n",
              "    background-color: var(--disabled-bg-color);\n",
              "    fill: var(--disabled-fill-color);\n",
              "    box-shadow: none;\n",
              "  }\n",
              "\n",
              "  .colab-df-spinner {\n",
              "    border: 2px solid var(--fill-color);\n",
              "    border-color: transparent;\n",
              "    border-bottom-color: var(--fill-color);\n",
              "    animation:\n",
              "      spin 1s steps(1) infinite;\n",
              "  }\n",
              "\n",
              "  @keyframes spin {\n",
              "    0% {\n",
              "      border-color: transparent;\n",
              "      border-bottom-color: var(--fill-color);\n",
              "      border-left-color: var(--fill-color);\n",
              "    }\n",
              "    20% {\n",
              "      border-color: transparent;\n",
              "      border-left-color: var(--fill-color);\n",
              "      border-top-color: var(--fill-color);\n",
              "    }\n",
              "    30% {\n",
              "      border-color: transparent;\n",
              "      border-left-color: var(--fill-color);\n",
              "      border-top-color: var(--fill-color);\n",
              "      border-right-color: var(--fill-color);\n",
              "    }\n",
              "    40% {\n",
              "      border-color: transparent;\n",
              "      border-right-color: var(--fill-color);\n",
              "      border-top-color: var(--fill-color);\n",
              "    }\n",
              "    60% {\n",
              "      border-color: transparent;\n",
              "      border-right-color: var(--fill-color);\n",
              "    }\n",
              "    80% {\n",
              "      border-color: transparent;\n",
              "      border-right-color: var(--fill-color);\n",
              "      border-bottom-color: var(--fill-color);\n",
              "    }\n",
              "    90% {\n",
              "      border-color: transparent;\n",
              "      border-bottom-color: var(--fill-color);\n",
              "    }\n",
              "  }\n",
              "</style>\n",
              "\n",
              "  <script>\n",
              "    async function quickchart(key) {\n",
              "      const quickchartButtonEl =\n",
              "        document.querySelector('#' + key + ' button');\n",
              "      quickchartButtonEl.disabled = true;  // To prevent multiple clicks.\n",
              "      quickchartButtonEl.classList.add('colab-df-spinner');\n",
              "      try {\n",
              "        const charts = await google.colab.kernel.invokeFunction(\n",
              "            'suggestCharts', [key], {});\n",
              "      } catch (error) {\n",
              "        console.error('Error during call to suggestCharts:', error);\n",
              "      }\n",
              "      quickchartButtonEl.classList.remove('colab-df-spinner');\n",
              "      quickchartButtonEl.classList.add('colab-df-quickchart-complete');\n",
              "    }\n",
              "    (() => {\n",
              "      let quickchartButtonEl =\n",
              "        document.querySelector('#df-6511d4fd-4171-4ee7-8820-c98c6ac8c27a button');\n",
              "      quickchartButtonEl.style.display =\n",
              "        google.colab.kernel.accessAllowed ? 'block' : 'none';\n",
              "    })();\n",
              "  </script>\n",
              "</div>\n",
              "\n",
              "    </div>\n",
              "  </div>\n"
            ],
            "text/plain": [
              "     price    area  bedrooms  bathrooms  stories  parking\n",
              "0  3500000  6000.0       3.0        1.0      2.0      0.0\n",
              "1  4200000     NaN       NaN        NaN      NaN      NaN"
            ]
          },
          "execution_count": 4,
          "metadata": {},
          "output_type": "execute_result"
        }
      ],
      "source": [
        "df.mode(numeric_only=True)"
      ]
    },
    {
      "cell_type": "code",
      "execution_count": null,
      "metadata": {
        "colab": {
          "base_uri": "https://localhost:8080/"
        },
        "id": "1kU-Gcif82KX",
        "outputId": "5586f92a-ab28-4086-8fd4-56ea3e50a6b0"
      },
      "outputs": [
        {
          "data": {
            "text/plain": [
              "price        4529000.0\n",
              "area            4830.0\n",
              "bedrooms           3.0\n",
              "bathrooms          1.0\n",
              "stories            2.0\n",
              "parking            0.0\n",
              "dtype: float64"
            ]
          },
          "execution_count": 5,
          "metadata": {},
          "output_type": "execute_result"
        }
      ],
      "source": [
        "df.median(numeric_only=True)"
      ]
    },
    {
      "cell_type": "code",
      "execution_count": null,
      "metadata": {
        "colab": {
          "base_uri": "https://localhost:8080/"
        },
        "id": "WnmcYzWIYZSi",
        "outputId": "4cfe2789-27dc-4378-af8d-9342a6f38e53"
      },
      "outputs": [
        {
          "data": {
            "text/plain": [
              "price        10640000\n",
              "area            14550\n",
              "bedrooms            5\n",
              "bathrooms           3\n",
              "stories             3\n",
              "parking             3\n",
              "dtype: int64"
            ]
          },
          "execution_count": 4,
          "metadata": {},
          "output_type": "execute_result"
        }
      ],
      "source": [
        "df.max(numeric_only=True) - df.min(numeric_only=True)"
      ]
    },
    {
      "cell_type": "code",
      "execution_count": null,
      "metadata": {
        "colab": {
          "base_uri": "https://localhost:8080/"
        },
        "id": "2YVCDJpcZbW8",
        "outputId": "5134b28b-48ac-4726-cae9-bf619f286e79"
      },
      "outputs": [
        {
          "data": {
            "text/plain": [
              "price        3.212979e+12\n",
              "area         4.738301e+06\n",
              "bedrooms     5.290421e-01\n",
              "bathrooms    2.656673e-01\n",
              "stories      7.784529e-01\n",
              "parking      7.659319e-01\n",
              "dtype: float64"
            ]
          },
          "execution_count": 5,
          "metadata": {},
          "output_type": "execute_result"
        }
      ],
      "source": [
        "df.var(numeric_only=True)"
      ]
    },
    {
      "cell_type": "code",
      "execution_count": null,
      "metadata": {
        "colab": {
          "base_uri": "https://localhost:8080/"
        },
        "id": "oXyOTBWrZgN5",
        "outputId": "8e0dafd7-90db-4afc-80a3-b9ca694a96ff"
      },
      "outputs": [
        {
          "data": {
            "text/plain": [
              "price        1.792478e+06\n",
              "area         2.176764e+03\n",
              "bedrooms     7.273528e-01\n",
              "bathrooms    5.154293e-01\n",
              "stories      8.822998e-01\n",
              "parking      8.751753e-01\n",
              "dtype: float64"
            ]
          },
          "execution_count": 6,
          "metadata": {},
          "output_type": "execute_result"
        }
      ],
      "source": [
        "df.std(numeric_only=True)"
      ]
    },
    {
      "cell_type": "code",
      "execution_count": null,
      "metadata": {
        "colab": {
          "base_uri": "https://localhost:8080/"
        },
        "id": "qshlmpwscIDi",
        "outputId": "4972cff6-f649-4887-aaf1-e127d0aa5d05"
      },
      "outputs": [
        {
          "name": "stdout",
          "output_type": "stream",
          "text": [
            "f_value:1.7719097856708819\n",
            "p_value:3.7103404413221524e-06\n"
          ]
        }
      ],
      "source": [
        "import pandas as pd\n",
        "path=(\"/content/Excel viewer - transform and filter Excel files online with AI (6).xlsx\")\n",
        "df=pd.read_excel(path)\n",
        "from scipy import stats\n",
        "group=df.groupby('price')['area'].apply(list)\n",
        "f_value, p_value=stats.f_oneway(*group)\n",
        "print(f\"f_value:{f_value}\")\n",
        "print(f\"p_value:{p_value}\")"
      ]
    },
    {
      "cell_type": "code",
      "execution_count": null,
      "metadata": {
        "colab": {
          "base_uri": "https://localhost:8080/"
        },
        "id": "CHGCjUAMPMt0",
        "outputId": "4ed547c8-0f83-4094-9ad3-eab4133c13a4"
      },
      "outputs": [
        {
          "name": "stdout",
          "output_type": "stream",
          "text": [
            "one way ANOVA\n",
            "f_value:3867.5355424375316\n",
            "p_value:0.0\n"
          ]
        }
      ],
      "source": [
        "import pandas as pd\n",
        "path=(\"/content/Excel viewer - transform and filter Excel files online with AI (6).xlsx\")\n",
        "df=pd.read_excel(path)\n",
        "from scipy import stats\n",
        "f_value,p_value=stats.f_oneway(df['price'],df['area'],df[\"bedrooms\"])\n",
        "print(\"one way ANOVA\")\n",
        "print(f\"f_value:{f_value}\")\n",
        "print(f\"p_value:{p_value}\")"
      ]
    },
    {
      "cell_type": "code",
      "execution_count": null,
      "metadata": {
        "colab": {
          "base_uri": "https://localhost:8080/"
        },
        "id": "-pzRRH-0s5Q7",
        "outputId": "b52a6e40-09ed-40dc-cc1d-93fa0607daba"
      },
      "outputs": [
        {
          "name": "stdout",
          "output_type": "stream",
          "text": [
            "kruskal-wallis Test:H_stat=2.0,P_val0.36787944117144245\n"
          ]
        }
      ],
      "source": [
        "from scipy.stats import kruskal\n",
        "df=pd.read_excel(\"/content/Excel viewer - transform and filter Excel files online with AI (6).xlsx\")\n",
        "h_stat, p_val = kruskal(\"price\",\"area\",\"bedrooms\")\n",
        "print(f\"kruskal-wallis Test:H_stat={h_stat},P_val{p_val}\")"
      ]
    },
    {
      "cell_type": "code",
      "execution_count": null,
      "metadata": {
        "colab": {
          "base_uri": "https://localhost:8080/"
        },
        "id": "CXDV-yd1xGhK",
        "outputId": "d8ddd47f-2cce-4290-a344-f2a7caa9fb79"
      },
      "outputs": [
        {
          "name": "stdout",
          "output_type": "stream",
          "text": [
            "One-sample t-test: t_stat=62.22267647240063, p_val=2.744434461236489e-237\n"
          ]
        }
      ],
      "source": [
        "import pandas as pd\n",
        "import scipy.stats as stats\n",
        "df=pd.read_excel('/content/Excel viewer - transform and filter Excel files online with AI (6).xlsx')\n",
        "price_df=df['price'].values\n",
        "t_stat, p_val=stats.ttest_1samp(price_df, popmean=0)\n",
        "print(f\"One-sample t-test: t_stat={t_stat}, p_val={p_val}\")"
      ]
    },
    {
      "cell_type": "code",
      "execution_count": null,
      "metadata": {
        "colab": {
          "base_uri": "https://localhost:8080/"
        },
        "id": "wcoFFzMIyUfx",
        "outputId": "914d3708-7b8a-4939-8050-d486f36d4c45"
      },
      "outputs": [
        {
          "name": "stdout",
          "output_type": "stream",
          "text": [
            "Chi-Square Test of Independent: chi2=51540.12386364803, p=0.9999966367646558, dog=52993, expected=[[0.006 0.006 0.006 ... 0.012 0.006 0.006]\n",
            " [0.002 0.002 0.002 ... 0.004 0.002 0.002]\n",
            " [0.004 0.004 0.004 ... 0.008 0.004 0.004]\n",
            " ...\n",
            " [0.002 0.002 0.002 ... 0.004 0.002 0.002]\n",
            " [0.004 0.004 0.004 ... 0.008 0.004 0.004]\n",
            " [0.002 0.002 0.002 ... 0.004 0.002 0.002]]\n"
          ]
        }
      ],
      "source": [
        "import pandas as pd\n",
        "from scipy.stats import chi2_contingency\n",
        "df=pd.read_excel('/content/Excel viewer - transform and filter Excel files online with AI (6).xlsx')\n",
        "contingency_table=pd.crosstab(df['price'],df['area'])\n",
        "chi2, p, dof, ex = chi2_contingency(contingency_table)\n",
        "print(f\"Chi-Square Test of Independent: chi2={chi2}, p={p}, dog={dof}, expected={ex}\")"
      ]
    },
    {
      "cell_type": "code",
      "execution_count": null,
      "metadata": {
        "colab": {
          "base_uri": "https://localhost:8080/",
          "height": 237
        },
        "id": "H0LaGSZdZkYh",
        "outputId": "79897f89-cc51-4940-e26b-5f11ac93422f"
      },
      "outputs": [
        {
          "data": {
            "application/vnd.google.colaboratory.intrinsic+json": {
              "summary": "{\n  \"name\": \"df\",\n  \"rows\": 6,\n  \"fields\": [\n    {\n      \"column\": \"price\",\n      \"properties\": {\n        \"dtype\": \"number\",\n        \"std\": 1311534980529.4778,\n        \"min\": 450032.47062124184,\n        \"max\": 3212978775897.971,\n        \"num_unique_values\": 6,\n        \"samples\": [\n          3212978775897.971,\n          1937166972.63583,\n          552197.2052104214\n        ],\n        \"semantic_type\": \"\",\n        \"description\": \"\"\n      }\n    },\n    {\n      \"column\": \"area\",\n      \"properties\": {\n        \"dtype\": \"number\",\n        \"std\": 790460405.2738522,\n        \"min\": 91.56787174348698,\n        \"max\": 1937166972.63583,\n        \"num_unique_values\": 6,\n        \"samples\": [\n          1937166972.63583,\n          4738301.016208419,\n          631.8333466933879\n        ],\n        \"semantic_type\": \"\",\n        \"description\": \"\"\n      }\n    },\n    {\n      \"column\": \"bedrooms\",\n      \"properties\": {\n        \"dtype\": \"number\",\n        \"std\": 183708.43278588098,\n        \"min\": 0.08320641282565136,\n        \"max\": 450032.47062124184,\n        \"num_unique_values\": 6,\n        \"samples\": [\n          450032.47062124184,\n          201.96084969939855,\n          0.08320641282565136\n        ],\n        \"semantic_type\": \"\",\n        \"description\": \"\"\n      }\n    },\n    {\n      \"column\": \"bathrooms\",\n      \"properties\": {\n        \"dtype\": \"number\",\n        \"std\": 192335.81053877392,\n        \"min\": 0.07022044088176357,\n        \"max\": 471162.4422444868,\n        \"num_unique_values\": 6,\n        \"samples\": [\n          471162.4422444868,\n          188.80105811623238,\n          0.07022044088176357\n        ],\n        \"semantic_type\": \"\",\n        \"description\": \"\"\n      }\n    },\n    {\n      \"column\": \"stories\",\n      \"properties\": {\n        \"dtype\": \"number\",\n        \"std\": 257389.96744548788,\n        \"min\": 0.016513026052104193,\n        \"max\": 630492.6294188389,\n        \"num_unique_values\": 6,\n        \"samples\": [\n          630492.6294188389,\n          91.56787174348698,\n          0.016513026052104193\n        ],\n        \"semantic_type\": \"\",\n        \"description\": \"\"\n      }\n    },\n    {\n      \"column\": \"parking\",\n      \"properties\": {\n        \"dtype\": \"number\",\n        \"std\": 225382.04123295847,\n        \"min\": 0.016513026052104193,\n        \"max\": 552197.2052104214,\n        \"num_unique_values\": 6,\n        \"samples\": [\n          552197.2052104214,\n          631.8333466933879,\n          0.7659318637274529\n        ],\n        \"semantic_type\": \"\",\n        \"description\": \"\"\n      }\n    }\n  ]\n}",
              "type": "dataframe"
            },
            "text/html": [
              "\n",
              "  <div id=\"df-e43bda48-ab68-4452-ac21-ee2db190dee3\" class=\"colab-df-container\">\n",
              "    <div>\n",
              "<style scoped>\n",
              "    .dataframe tbody tr th:only-of-type {\n",
              "        vertical-align: middle;\n",
              "    }\n",
              "\n",
              "    .dataframe tbody tr th {\n",
              "        vertical-align: top;\n",
              "    }\n",
              "\n",
              "    .dataframe thead th {\n",
              "        text-align: right;\n",
              "    }\n",
              "</style>\n",
              "<table border=\"1\" class=\"dataframe\">\n",
              "  <thead>\n",
              "    <tr style=\"text-align: right;\">\n",
              "      <th></th>\n",
              "      <th>price</th>\n",
              "      <th>area</th>\n",
              "      <th>bedrooms</th>\n",
              "      <th>bathrooms</th>\n",
              "      <th>stories</th>\n",
              "      <th>parking</th>\n",
              "    </tr>\n",
              "  </thead>\n",
              "  <tbody>\n",
              "    <tr>\n",
              "      <th>price</th>\n",
              "      <td>3.212979e+12</td>\n",
              "      <td>1.937167e+09</td>\n",
              "      <td>450032.470621</td>\n",
              "      <td>471162.442244</td>\n",
              "      <td>630492.629419</td>\n",
              "      <td>552197.205210</td>\n",
              "    </tr>\n",
              "    <tr>\n",
              "      <th>area</th>\n",
              "      <td>1.937167e+09</td>\n",
              "      <td>4.738301e+06</td>\n",
              "      <td>201.960850</td>\n",
              "      <td>188.801058</td>\n",
              "      <td>91.567872</td>\n",
              "      <td>631.833347</td>\n",
              "    </tr>\n",
              "    <tr>\n",
              "      <th>bedrooms</th>\n",
              "      <td>4.500325e+05</td>\n",
              "      <td>2.019608e+02</td>\n",
              "      <td>0.529042</td>\n",
              "      <td>0.139046</td>\n",
              "      <td>0.249106</td>\n",
              "      <td>0.083206</td>\n",
              "    </tr>\n",
              "    <tr>\n",
              "      <th>bathrooms</th>\n",
              "      <td>4.711624e+05</td>\n",
              "      <td>1.888011e+02</td>\n",
              "      <td>0.139046</td>\n",
              "      <td>0.265667</td>\n",
              "      <td>0.141098</td>\n",
              "      <td>0.070220</td>\n",
              "    </tr>\n",
              "    <tr>\n",
              "      <th>stories</th>\n",
              "      <td>6.304926e+05</td>\n",
              "      <td>9.156787e+01</td>\n",
              "      <td>0.249106</td>\n",
              "      <td>0.141098</td>\n",
              "      <td>0.778453</td>\n",
              "      <td>0.016513</td>\n",
              "    </tr>\n",
              "    <tr>\n",
              "      <th>parking</th>\n",
              "      <td>5.521972e+05</td>\n",
              "      <td>6.318333e+02</td>\n",
              "      <td>0.083206</td>\n",
              "      <td>0.070220</td>\n",
              "      <td>0.016513</td>\n",
              "      <td>0.765932</td>\n",
              "    </tr>\n",
              "  </tbody>\n",
              "</table>\n",
              "</div>\n",
              "    <div class=\"colab-df-buttons\">\n",
              "\n",
              "  <div class=\"colab-df-container\">\n",
              "    <button class=\"colab-df-convert\" onclick=\"convertToInteractive('df-e43bda48-ab68-4452-ac21-ee2db190dee3')\"\n",
              "            title=\"Convert this dataframe to an interactive table.\"\n",
              "            style=\"display:none;\">\n",
              "\n",
              "  <svg xmlns=\"http://www.w3.org/2000/svg\" height=\"24px\" viewBox=\"0 -960 960 960\">\n",
              "    <path d=\"M120-120v-720h720v720H120Zm60-500h600v-160H180v160Zm220 220h160v-160H400v160Zm0 220h160v-160H400v160ZM180-400h160v-160H180v160Zm440 0h160v-160H620v160ZM180-180h160v-160H180v160Zm440 0h160v-160H620v160Z\"/>\n",
              "  </svg>\n",
              "    </button>\n",
              "\n",
              "  <style>\n",
              "    .colab-df-container {\n",
              "      display:flex;\n",
              "      gap: 12px;\n",
              "    }\n",
              "\n",
              "    .colab-df-convert {\n",
              "      background-color: #E8F0FE;\n",
              "      border: none;\n",
              "      border-radius: 50%;\n",
              "      cursor: pointer;\n",
              "      display: none;\n",
              "      fill: #1967D2;\n",
              "      height: 32px;\n",
              "      padding: 0 0 0 0;\n",
              "      width: 32px;\n",
              "    }\n",
              "\n",
              "    .colab-df-convert:hover {\n",
              "      background-color: #E2EBFA;\n",
              "      box-shadow: 0px 1px 2px rgba(60, 64, 67, 0.3), 0px 1px 3px 1px rgba(60, 64, 67, 0.15);\n",
              "      fill: #174EA6;\n",
              "    }\n",
              "\n",
              "    .colab-df-buttons div {\n",
              "      margin-bottom: 4px;\n",
              "    }\n",
              "\n",
              "    [theme=dark] .colab-df-convert {\n",
              "      background-color: #3B4455;\n",
              "      fill: #D2E3FC;\n",
              "    }\n",
              "\n",
              "    [theme=dark] .colab-df-convert:hover {\n",
              "      background-color: #434B5C;\n",
              "      box-shadow: 0px 1px 3px 1px rgba(0, 0, 0, 0.15);\n",
              "      filter: drop-shadow(0px 1px 2px rgba(0, 0, 0, 0.3));\n",
              "      fill: #FFFFFF;\n",
              "    }\n",
              "  </style>\n",
              "\n",
              "    <script>\n",
              "      const buttonEl =\n",
              "        document.querySelector('#df-e43bda48-ab68-4452-ac21-ee2db190dee3 button.colab-df-convert');\n",
              "      buttonEl.style.display =\n",
              "        google.colab.kernel.accessAllowed ? 'block' : 'none';\n",
              "\n",
              "      async function convertToInteractive(key) {\n",
              "        const element = document.querySelector('#df-e43bda48-ab68-4452-ac21-ee2db190dee3');\n",
              "        const dataTable =\n",
              "          await google.colab.kernel.invokeFunction('convertToInteractive',\n",
              "                                                    [key], {});\n",
              "        if (!dataTable) return;\n",
              "\n",
              "        const docLinkHtml = 'Like what you see? Visit the ' +\n",
              "          '<a target=\"_blank\" href=https://colab.research.google.com/notebooks/data_table.ipynb>data table notebook</a>'\n",
              "          + ' to learn more about interactive tables.';\n",
              "        element.innerHTML = '';\n",
              "        dataTable['output_type'] = 'display_data';\n",
              "        await google.colab.output.renderOutput(dataTable, element);\n",
              "        const docLink = document.createElement('div');\n",
              "        docLink.innerHTML = docLinkHtml;\n",
              "        element.appendChild(docLink);\n",
              "      }\n",
              "    </script>\n",
              "  </div>\n",
              "\n",
              "\n",
              "<div id=\"df-6c0ba40c-89c9-44df-9916-6d81459be5b0\">\n",
              "  <button class=\"colab-df-quickchart\" onclick=\"quickchart('df-6c0ba40c-89c9-44df-9916-6d81459be5b0')\"\n",
              "            title=\"Suggest charts\"\n",
              "            style=\"display:none;\">\n",
              "\n",
              "<svg xmlns=\"http://www.w3.org/2000/svg\" height=\"24px\"viewBox=\"0 0 24 24\"\n",
              "     width=\"24px\">\n",
              "    <g>\n",
              "        <path d=\"M19 3H5c-1.1 0-2 .9-2 2v14c0 1.1.9 2 2 2h14c1.1 0 2-.9 2-2V5c0-1.1-.9-2-2-2zM9 17H7v-7h2v7zm4 0h-2V7h2v10zm4 0h-2v-4h2v4z\"/>\n",
              "    </g>\n",
              "</svg>\n",
              "  </button>\n",
              "\n",
              "<style>\n",
              "  .colab-df-quickchart {\n",
              "      --bg-color: #E8F0FE;\n",
              "      --fill-color: #1967D2;\n",
              "      --hover-bg-color: #E2EBFA;\n",
              "      --hover-fill-color: #174EA6;\n",
              "      --disabled-fill-color: #AAA;\n",
              "      --disabled-bg-color: #DDD;\n",
              "  }\n",
              "\n",
              "  [theme=dark] .colab-df-quickchart {\n",
              "      --bg-color: #3B4455;\n",
              "      --fill-color: #D2E3FC;\n",
              "      --hover-bg-color: #434B5C;\n",
              "      --hover-fill-color: #FFFFFF;\n",
              "      --disabled-bg-color: #3B4455;\n",
              "      --disabled-fill-color: #666;\n",
              "  }\n",
              "\n",
              "  .colab-df-quickchart {\n",
              "    background-color: var(--bg-color);\n",
              "    border: none;\n",
              "    border-radius: 50%;\n",
              "    cursor: pointer;\n",
              "    display: none;\n",
              "    fill: var(--fill-color);\n",
              "    height: 32px;\n",
              "    padding: 0;\n",
              "    width: 32px;\n",
              "  }\n",
              "\n",
              "  .colab-df-quickchart:hover {\n",
              "    background-color: var(--hover-bg-color);\n",
              "    box-shadow: 0 1px 2px rgba(60, 64, 67, 0.3), 0 1px 3px 1px rgba(60, 64, 67, 0.15);\n",
              "    fill: var(--button-hover-fill-color);\n",
              "  }\n",
              "\n",
              "  .colab-df-quickchart-complete:disabled,\n",
              "  .colab-df-quickchart-complete:disabled:hover {\n",
              "    background-color: var(--disabled-bg-color);\n",
              "    fill: var(--disabled-fill-color);\n",
              "    box-shadow: none;\n",
              "  }\n",
              "\n",
              "  .colab-df-spinner {\n",
              "    border: 2px solid var(--fill-color);\n",
              "    border-color: transparent;\n",
              "    border-bottom-color: var(--fill-color);\n",
              "    animation:\n",
              "      spin 1s steps(1) infinite;\n",
              "  }\n",
              "\n",
              "  @keyframes spin {\n",
              "    0% {\n",
              "      border-color: transparent;\n",
              "      border-bottom-color: var(--fill-color);\n",
              "      border-left-color: var(--fill-color);\n",
              "    }\n",
              "    20% {\n",
              "      border-color: transparent;\n",
              "      border-left-color: var(--fill-color);\n",
              "      border-top-color: var(--fill-color);\n",
              "    }\n",
              "    30% {\n",
              "      border-color: transparent;\n",
              "      border-left-color: var(--fill-color);\n",
              "      border-top-color: var(--fill-color);\n",
              "      border-right-color: var(--fill-color);\n",
              "    }\n",
              "    40% {\n",
              "      border-color: transparent;\n",
              "      border-right-color: var(--fill-color);\n",
              "      border-top-color: var(--fill-color);\n",
              "    }\n",
              "    60% {\n",
              "      border-color: transparent;\n",
              "      border-right-color: var(--fill-color);\n",
              "    }\n",
              "    80% {\n",
              "      border-color: transparent;\n",
              "      border-right-color: var(--fill-color);\n",
              "      border-bottom-color: var(--fill-color);\n",
              "    }\n",
              "    90% {\n",
              "      border-color: transparent;\n",
              "      border-bottom-color: var(--fill-color);\n",
              "    }\n",
              "  }\n",
              "</style>\n",
              "\n",
              "  <script>\n",
              "    async function quickchart(key) {\n",
              "      const quickchartButtonEl =\n",
              "        document.querySelector('#' + key + ' button');\n",
              "      quickchartButtonEl.disabled = true;  // To prevent multiple clicks.\n",
              "      quickchartButtonEl.classList.add('colab-df-spinner');\n",
              "      try {\n",
              "        const charts = await google.colab.kernel.invokeFunction(\n",
              "            'suggestCharts', [key], {});\n",
              "      } catch (error) {\n",
              "        console.error('Error during call to suggestCharts:', error);\n",
              "      }\n",
              "      quickchartButtonEl.classList.remove('colab-df-spinner');\n",
              "      quickchartButtonEl.classList.add('colab-df-quickchart-complete');\n",
              "    }\n",
              "    (() => {\n",
              "      let quickchartButtonEl =\n",
              "        document.querySelector('#df-6c0ba40c-89c9-44df-9916-6d81459be5b0 button');\n",
              "      quickchartButtonEl.style.display =\n",
              "        google.colab.kernel.accessAllowed ? 'block' : 'none';\n",
              "    })();\n",
              "  </script>\n",
              "</div>\n",
              "\n",
              "    </div>\n",
              "  </div>\n"
            ],
            "text/plain": [
              "                  price          area       bedrooms      bathrooms  \\\n",
              "price      3.212979e+12  1.937167e+09  450032.470621  471162.442244   \n",
              "area       1.937167e+09  4.738301e+06     201.960850     188.801058   \n",
              "bedrooms   4.500325e+05  2.019608e+02       0.529042       0.139046   \n",
              "bathrooms  4.711624e+05  1.888011e+02       0.139046       0.265667   \n",
              "stories    6.304926e+05  9.156787e+01       0.249106       0.141098   \n",
              "parking    5.521972e+05  6.318333e+02       0.083206       0.070220   \n",
              "\n",
              "                 stories        parking  \n",
              "price      630492.629419  552197.205210  \n",
              "area           91.567872     631.833347  \n",
              "bedrooms        0.249106       0.083206  \n",
              "bathrooms       0.141098       0.070220  \n",
              "stories         0.778453       0.016513  \n",
              "parking         0.016513       0.765932  "
            ]
          },
          "execution_count": 8,
          "metadata": {},
          "output_type": "execute_result"
        }
      ],
      "source": [
        "df.cov(numeric_only=True)"
      ]
    },
    {
      "cell_type": "code",
      "execution_count": null,
      "metadata": {
        "colab": {
          "base_uri": "https://localhost:8080/",
          "height": 237
        },
        "id": "TX3_vE70ZpE5",
        "outputId": "b484492d-31ac-4ffa-a1f8-1d6e03a0f0c5"
      },
      "outputs": [
        {
          "data": {
            "application/vnd.google.colaboratory.intrinsic+json": {
              "summary": "{\n  \"name\": \"df\",\n  \"rows\": 6,\n  \"fields\": [\n    {\n      \"column\": \"price\",\n      \"properties\": {\n        \"dtype\": \"number\",\n        \"std\": 0.24678284313603308,\n        \"min\": 0.3451793537661771,\n        \"max\": 1.0,\n        \"num_unique_values\": 6,\n        \"samples\": [\n          1.0,\n          0.4964800523424907,\n          0.35200206183166105\n        ],\n        \"semantic_type\": \"\",\n        \"description\": \"\"\n      }\n    },\n    {\n      \"column\": \"area\",\n      \"properties\": {\n        \"dtype\": \"number\",\n        \"std\": 0.3513798705128017,\n        \"min\": 0.04767773600375187,\n        \"max\": 1.0,\n        \"num_unique_values\": 6,\n        \"samples\": [\n          0.4964800523424907,\n          1.0,\n          0.331662332769527\n        ],\n        \"semantic_type\": \"\",\n        \"description\": \"\"\n      }\n    },\n    {\n      \"column\": \"bedrooms\",\n      \"properties\": {\n        \"dtype\": \"number\",\n        \"std\": 0.3195304062607588,\n        \"min\": 0.12755889700949963,\n        \"max\": 1.0,\n        \"num_unique_values\": 6,\n        \"samples\": [\n          0.3451793537661771,\n          0.12755889700949963,\n          0.1307123493125662\n        ],\n        \"semantic_type\": \"\",\n        \"description\": \"\"\n      }\n    },\n    {\n      \"column\": \"bathrooms\",\n      \"properties\": {\n        \"dtype\": \"number\",\n        \"std\": 0.31374520758315577,\n        \"min\": 0.1556680208920322,\n        \"max\": 1.0,\n        \"num_unique_values\": 6,\n        \"samples\": [\n          0.5099735555712565,\n          0.16827671328596655,\n          0.1556680208920322\n        ],\n        \"semantic_type\": \"\",\n        \"description\": \"\"\n      }\n    },\n    {\n      \"column\": \"stories\",\n      \"properties\": {\n        \"dtype\": \"number\",\n        \"std\": 0.35399458179287147,\n        \"min\": 0.021385303860851208,\n        \"max\": 1.0,\n        \"num_unique_values\": 6,\n        \"samples\": [\n          0.398666656200493,\n          0.04767773600375187,\n          0.021385303860851208\n        ],\n        \"semantic_type\": \"\",\n        \"description\": \"\"\n      }\n    },\n    {\n      \"column\": \"parking\",\n      \"properties\": {\n        \"dtype\": \"number\",\n        \"std\": 0.350632376426575,\n        \"min\": 0.021385303860851208,\n        \"max\": 1.0,\n        \"num_unique_values\": 6,\n        \"samples\": [\n          0.35200206183166105,\n          0.331662332769527,\n          1.0\n        ],\n        \"semantic_type\": \"\",\n        \"description\": \"\"\n      }\n    }\n  ]\n}",
              "type": "dataframe"
            },
            "text/html": [
              "\n",
              "  <div id=\"df-af0e74cf-1fe8-4743-a579-6816e3d5c153\" class=\"colab-df-container\">\n",
              "    <div>\n",
              "<style scoped>\n",
              "    .dataframe tbody tr th:only-of-type {\n",
              "        vertical-align: middle;\n",
              "    }\n",
              "\n",
              "    .dataframe tbody tr th {\n",
              "        vertical-align: top;\n",
              "    }\n",
              "\n",
              "    .dataframe thead th {\n",
              "        text-align: right;\n",
              "    }\n",
              "</style>\n",
              "<table border=\"1\" class=\"dataframe\">\n",
              "  <thead>\n",
              "    <tr style=\"text-align: right;\">\n",
              "      <th></th>\n",
              "      <th>price</th>\n",
              "      <th>area</th>\n",
              "      <th>bedrooms</th>\n",
              "      <th>bathrooms</th>\n",
              "      <th>stories</th>\n",
              "      <th>parking</th>\n",
              "    </tr>\n",
              "  </thead>\n",
              "  <tbody>\n",
              "    <tr>\n",
              "      <th>price</th>\n",
              "      <td>1.000000</td>\n",
              "      <td>0.496480</td>\n",
              "      <td>0.345179</td>\n",
              "      <td>0.509974</td>\n",
              "      <td>0.398667</td>\n",
              "      <td>0.352002</td>\n",
              "    </tr>\n",
              "    <tr>\n",
              "      <th>area</th>\n",
              "      <td>0.496480</td>\n",
              "      <td>1.000000</td>\n",
              "      <td>0.127559</td>\n",
              "      <td>0.168277</td>\n",
              "      <td>0.047678</td>\n",
              "      <td>0.331662</td>\n",
              "    </tr>\n",
              "    <tr>\n",
              "      <th>bedrooms</th>\n",
              "      <td>0.345179</td>\n",
              "      <td>0.127559</td>\n",
              "      <td>1.000000</td>\n",
              "      <td>0.370890</td>\n",
              "      <td>0.388171</td>\n",
              "      <td>0.130712</td>\n",
              "    </tr>\n",
              "    <tr>\n",
              "      <th>bathrooms</th>\n",
              "      <td>0.509974</td>\n",
              "      <td>0.168277</td>\n",
              "      <td>0.370890</td>\n",
              "      <td>1.000000</td>\n",
              "      <td>0.310267</td>\n",
              "      <td>0.155668</td>\n",
              "    </tr>\n",
              "    <tr>\n",
              "      <th>stories</th>\n",
              "      <td>0.398667</td>\n",
              "      <td>0.047678</td>\n",
              "      <td>0.388171</td>\n",
              "      <td>0.310267</td>\n",
              "      <td>1.000000</td>\n",
              "      <td>0.021385</td>\n",
              "    </tr>\n",
              "    <tr>\n",
              "      <th>parking</th>\n",
              "      <td>0.352002</td>\n",
              "      <td>0.331662</td>\n",
              "      <td>0.130712</td>\n",
              "      <td>0.155668</td>\n",
              "      <td>0.021385</td>\n",
              "      <td>1.000000</td>\n",
              "    </tr>\n",
              "  </tbody>\n",
              "</table>\n",
              "</div>\n",
              "    <div class=\"colab-df-buttons\">\n",
              "\n",
              "  <div class=\"colab-df-container\">\n",
              "    <button class=\"colab-df-convert\" onclick=\"convertToInteractive('df-af0e74cf-1fe8-4743-a579-6816e3d5c153')\"\n",
              "            title=\"Convert this dataframe to an interactive table.\"\n",
              "            style=\"display:none;\">\n",
              "\n",
              "  <svg xmlns=\"http://www.w3.org/2000/svg\" height=\"24px\" viewBox=\"0 -960 960 960\">\n",
              "    <path d=\"M120-120v-720h720v720H120Zm60-500h600v-160H180v160Zm220 220h160v-160H400v160Zm0 220h160v-160H400v160ZM180-400h160v-160H180v160Zm440 0h160v-160H620v160ZM180-180h160v-160H180v160Zm440 0h160v-160H620v160Z\"/>\n",
              "  </svg>\n",
              "    </button>\n",
              "\n",
              "  <style>\n",
              "    .colab-df-container {\n",
              "      display:flex;\n",
              "      gap: 12px;\n",
              "    }\n",
              "\n",
              "    .colab-df-convert {\n",
              "      background-color: #E8F0FE;\n",
              "      border: none;\n",
              "      border-radius: 50%;\n",
              "      cursor: pointer;\n",
              "      display: none;\n",
              "      fill: #1967D2;\n",
              "      height: 32px;\n",
              "      padding: 0 0 0 0;\n",
              "      width: 32px;\n",
              "    }\n",
              "\n",
              "    .colab-df-convert:hover {\n",
              "      background-color: #E2EBFA;\n",
              "      box-shadow: 0px 1px 2px rgba(60, 64, 67, 0.3), 0px 1px 3px 1px rgba(60, 64, 67, 0.15);\n",
              "      fill: #174EA6;\n",
              "    }\n",
              "\n",
              "    .colab-df-buttons div {\n",
              "      margin-bottom: 4px;\n",
              "    }\n",
              "\n",
              "    [theme=dark] .colab-df-convert {\n",
              "      background-color: #3B4455;\n",
              "      fill: #D2E3FC;\n",
              "    }\n",
              "\n",
              "    [theme=dark] .colab-df-convert:hover {\n",
              "      background-color: #434B5C;\n",
              "      box-shadow: 0px 1px 3px 1px rgba(0, 0, 0, 0.15);\n",
              "      filter: drop-shadow(0px 1px 2px rgba(0, 0, 0, 0.3));\n",
              "      fill: #FFFFFF;\n",
              "    }\n",
              "  </style>\n",
              "\n",
              "    <script>\n",
              "      const buttonEl =\n",
              "        document.querySelector('#df-af0e74cf-1fe8-4743-a579-6816e3d5c153 button.colab-df-convert');\n",
              "      buttonEl.style.display =\n",
              "        google.colab.kernel.accessAllowed ? 'block' : 'none';\n",
              "\n",
              "      async function convertToInteractive(key) {\n",
              "        const element = document.querySelector('#df-af0e74cf-1fe8-4743-a579-6816e3d5c153');\n",
              "        const dataTable =\n",
              "          await google.colab.kernel.invokeFunction('convertToInteractive',\n",
              "                                                    [key], {});\n",
              "        if (!dataTable) return;\n",
              "\n",
              "        const docLinkHtml = 'Like what you see? Visit the ' +\n",
              "          '<a target=\"_blank\" href=https://colab.research.google.com/notebooks/data_table.ipynb>data table notebook</a>'\n",
              "          + ' to learn more about interactive tables.';\n",
              "        element.innerHTML = '';\n",
              "        dataTable['output_type'] = 'display_data';\n",
              "        await google.colab.output.renderOutput(dataTable, element);\n",
              "        const docLink = document.createElement('div');\n",
              "        docLink.innerHTML = docLinkHtml;\n",
              "        element.appendChild(docLink);\n",
              "      }\n",
              "    </script>\n",
              "  </div>\n",
              "\n",
              "\n",
              "<div id=\"df-f1a79cac-3f4c-4bc2-984a-396ef834a8f2\">\n",
              "  <button class=\"colab-df-quickchart\" onclick=\"quickchart('df-f1a79cac-3f4c-4bc2-984a-396ef834a8f2')\"\n",
              "            title=\"Suggest charts\"\n",
              "            style=\"display:none;\">\n",
              "\n",
              "<svg xmlns=\"http://www.w3.org/2000/svg\" height=\"24px\"viewBox=\"0 0 24 24\"\n",
              "     width=\"24px\">\n",
              "    <g>\n",
              "        <path d=\"M19 3H5c-1.1 0-2 .9-2 2v14c0 1.1.9 2 2 2h14c1.1 0 2-.9 2-2V5c0-1.1-.9-2-2-2zM9 17H7v-7h2v7zm4 0h-2V7h2v10zm4 0h-2v-4h2v4z\"/>\n",
              "    </g>\n",
              "</svg>\n",
              "  </button>\n",
              "\n",
              "<style>\n",
              "  .colab-df-quickchart {\n",
              "      --bg-color: #E8F0FE;\n",
              "      --fill-color: #1967D2;\n",
              "      --hover-bg-color: #E2EBFA;\n",
              "      --hover-fill-color: #174EA6;\n",
              "      --disabled-fill-color: #AAA;\n",
              "      --disabled-bg-color: #DDD;\n",
              "  }\n",
              "\n",
              "  [theme=dark] .colab-df-quickchart {\n",
              "      --bg-color: #3B4455;\n",
              "      --fill-color: #D2E3FC;\n",
              "      --hover-bg-color: #434B5C;\n",
              "      --hover-fill-color: #FFFFFF;\n",
              "      --disabled-bg-color: #3B4455;\n",
              "      --disabled-fill-color: #666;\n",
              "  }\n",
              "\n",
              "  .colab-df-quickchart {\n",
              "    background-color: var(--bg-color);\n",
              "    border: none;\n",
              "    border-radius: 50%;\n",
              "    cursor: pointer;\n",
              "    display: none;\n",
              "    fill: var(--fill-color);\n",
              "    height: 32px;\n",
              "    padding: 0;\n",
              "    width: 32px;\n",
              "  }\n",
              "\n",
              "  .colab-df-quickchart:hover {\n",
              "    background-color: var(--hover-bg-color);\n",
              "    box-shadow: 0 1px 2px rgba(60, 64, 67, 0.3), 0 1px 3px 1px rgba(60, 64, 67, 0.15);\n",
              "    fill: var(--button-hover-fill-color);\n",
              "  }\n",
              "\n",
              "  .colab-df-quickchart-complete:disabled,\n",
              "  .colab-df-quickchart-complete:disabled:hover {\n",
              "    background-color: var(--disabled-bg-color);\n",
              "    fill: var(--disabled-fill-color);\n",
              "    box-shadow: none;\n",
              "  }\n",
              "\n",
              "  .colab-df-spinner {\n",
              "    border: 2px solid var(--fill-color);\n",
              "    border-color: transparent;\n",
              "    border-bottom-color: var(--fill-color);\n",
              "    animation:\n",
              "      spin 1s steps(1) infinite;\n",
              "  }\n",
              "\n",
              "  @keyframes spin {\n",
              "    0% {\n",
              "      border-color: transparent;\n",
              "      border-bottom-color: var(--fill-color);\n",
              "      border-left-color: var(--fill-color);\n",
              "    }\n",
              "    20% {\n",
              "      border-color: transparent;\n",
              "      border-left-color: var(--fill-color);\n",
              "      border-top-color: var(--fill-color);\n",
              "    }\n",
              "    30% {\n",
              "      border-color: transparent;\n",
              "      border-left-color: var(--fill-color);\n",
              "      border-top-color: var(--fill-color);\n",
              "      border-right-color: var(--fill-color);\n",
              "    }\n",
              "    40% {\n",
              "      border-color: transparent;\n",
              "      border-right-color: var(--fill-color);\n",
              "      border-top-color: var(--fill-color);\n",
              "    }\n",
              "    60% {\n",
              "      border-color: transparent;\n",
              "      border-right-color: var(--fill-color);\n",
              "    }\n",
              "    80% {\n",
              "      border-color: transparent;\n",
              "      border-right-color: var(--fill-color);\n",
              "      border-bottom-color: var(--fill-color);\n",
              "    }\n",
              "    90% {\n",
              "      border-color: transparent;\n",
              "      border-bottom-color: var(--fill-color);\n",
              "    }\n",
              "  }\n",
              "</style>\n",
              "\n",
              "  <script>\n",
              "    async function quickchart(key) {\n",
              "      const quickchartButtonEl =\n",
              "        document.querySelector('#' + key + ' button');\n",
              "      quickchartButtonEl.disabled = true;  // To prevent multiple clicks.\n",
              "      quickchartButtonEl.classList.add('colab-df-spinner');\n",
              "      try {\n",
              "        const charts = await google.colab.kernel.invokeFunction(\n",
              "            'suggestCharts', [key], {});\n",
              "      } catch (error) {\n",
              "        console.error('Error during call to suggestCharts:', error);\n",
              "      }\n",
              "      quickchartButtonEl.classList.remove('colab-df-spinner');\n",
              "      quickchartButtonEl.classList.add('colab-df-quickchart-complete');\n",
              "    }\n",
              "    (() => {\n",
              "      let quickchartButtonEl =\n",
              "        document.querySelector('#df-f1a79cac-3f4c-4bc2-984a-396ef834a8f2 button');\n",
              "      quickchartButtonEl.style.display =\n",
              "        google.colab.kernel.accessAllowed ? 'block' : 'none';\n",
              "    })();\n",
              "  </script>\n",
              "</div>\n",
              "\n",
              "    </div>\n",
              "  </div>\n"
            ],
            "text/plain": [
              "              price      area  bedrooms  bathrooms   stories   parking\n",
              "price      1.000000  0.496480  0.345179   0.509974  0.398667  0.352002\n",
              "area       0.496480  1.000000  0.127559   0.168277  0.047678  0.331662\n",
              "bedrooms   0.345179  0.127559  1.000000   0.370890  0.388171  0.130712\n",
              "bathrooms  0.509974  0.168277  0.370890   1.000000  0.310267  0.155668\n",
              "stories    0.398667  0.047678  0.388171   0.310267  1.000000  0.021385\n",
              "parking    0.352002  0.331662  0.130712   0.155668  0.021385  1.000000"
            ]
          },
          "execution_count": 9,
          "metadata": {},
          "output_type": "execute_result"
        }
      ],
      "source": [
        "df.corr(numeric_only=True)"
      ]
    },
    {
      "cell_type": "code",
      "execution_count": null,
      "metadata": {
        "colab": {
          "base_uri": "https://localhost:8080/",
          "height": 410
        },
        "id": "tU5Ru7IAZvhx",
        "outputId": "df1a4b46-3e09-43e4-a746-49d545813e1a"
      },
      "outputs": [
        {
          "data": {
            "image/png": "[encoded data removed]",
            "text/plain": [
              "<Figure size 600x400 with 1 Axes>"
            ]
          },
          "metadata": {},
          "output_type": "display_data"
        }
      ],
      "source": [
        "import pandas as pd\n",
        "df=pd.read_excel('/content/Excel viewer - transform and filter Excel files online with AI (6).xlsx')\n",
        "import matplotlib.pyplot as plt\n",
        "plt.figure(figsize=(6,4))\n",
        "\n",
        "plt.bar(df['bathrooms'],df['price'])\n",
        "plt.title(\"Bar plot\")\n",
        "plt.xlabel(\"price\")\n",
        "plt.ylabel(\"bedrooms\")\n",
        "plt.show()"
      ]
    },
    {
      "cell_type": "code",
      "execution_count": null,
      "metadata": {
        "colab": {
          "base_uri": "https://localhost:8080/",
          "height": 452
        },
        "id": "RY2t3uukaybR",
        "outputId": "2b55e4d7-4c03-4afe-d18d-c3beb7ef7254"
      },
      "outputs": [
        {
          "data": {
            "image/png": "[encoded data removed]",
            "text/plain": [
              "<Figure size 640x480 with 1 Axes>"
            ]
          },
          "metadata": {},
          "output_type": "display_data"
        }
      ],
      "source": [
        "import pandas as pd\n",
        "df=pd.read_excel('/content/Excel viewer - transform and filter Excel files online with AI (6).xlsx')\n",
        "import matplotlib.pyplot as plt\n",
        "\n",
        "df.boxplot(column=['price'])\n",
        "plt.title(\"box plot\")\n",
        "plt.ylabel(\"price\")\n",
        "plt.show()"
      ]
    },
    {
      "cell_type": "code",
      "execution_count": null,
      "metadata": {
        "colab": {
          "base_uri": "https://localhost:8080/",
          "height": 445
        },
        "id": "4mQzCJpuAZiF",
        "outputId": "f4701d3a-17d7-4bff-eb0c-455fc445d4fd"
      },
      "outputs": [
        {
          "data": {
            "image/png": "[encoded data removed]",
            "text/plain": [
              "<Figure size 640x480 with 1 Axes>"
            ]
          },
          "metadata": {},
          "output_type": "display_data"
        }
      ],
      "source": [
        "import pandas as pd\n",
        "df=pd.read_excel(\"/content/Excel viewer - transform and filter Excel files online with AI (6).xlsx\")\n",
        "import matplotlib.pyplot as plt\n",
        "plt.violinplot(df['price'])\n",
        "plt.show()"
      ]
    },
    {
      "cell_type": "code",
      "execution_count": null,
      "metadata": {
        "colab": {
          "base_uri": "https://localhost:8080/",
          "height": 496
        },
        "id": "DDtbpXM_Nk0I",
        "outputId": "957a28cf-52c6-4c56-dcaa-5327e8e424c0"
      },
      "outputs": [
        {
          "data": {
            "image/png": "[encoded data removed]",
            "text/plain": [
              "<Figure size 640x480 with 2 Axes>"
            ]
          },
          "metadata": {},
          "output_type": "display_data"
        }
      ],
      "source": [
        "import matplotlib.pyplot as plt\n",
        "import seaborn as sns\n",
        "import pandas as pd\n",
        "path=(\"/content/Excel viewer - transform and filter Excel files online with AI (6).xlsx\")\n",
        "df = pd.read_excel(path)\n",
        "\n",
        "corr_matrix=df.corr(numeric_only=True)\n",
        "\n",
        "sns.heatmap(corr_matrix, annot=True)\n",
        "plt.show()"
      ]
    },
    {
      "cell_type": "code",
      "execution_count": null,
      "metadata": {
        "colab": {
          "base_uri": "https://localhost:8080/",
          "height": 323
        },
        "id": "6XRKHXubYYaP",
        "outputId": "8484dc40-4c74-4d67-af2b-a3b7d0ac9235"
      },
      "outputs": [
        {
          "data": {
            "text/plain": [
              "<seaborn.axisgrid.PairGrid at 0x7a32edcce4a0>"
            ]
          },
          "execution_count": 10,
          "metadata": {},
          "output_type": "execute_result"
        },
        {
          "data": {
            "image/png": "[encoded data removed]",
            "text/plain": [
              "<Figure size 750x750 with 12 Axes>"
            ]
          },
          "metadata": {},
          "output_type": "display_data"
        }
      ],
      "source": [
        "import matplotlib.pyplot as plt\n",
        "import seaborn as sns\n",
        "import pandas as pd\n",
        "path=(\"/content/Excel viewer - transform and filter Excel files online with AI (6).xlsx\")\n",
        "data = pd.read_excel(path)\n",
        "\n",
        "sns.pairplot(data, vars=['price', 'area', 'bedrooms'])"
      ]
    },
    {
      "cell_type": "code",
      "execution_count": null,
      "metadata": {
        "colab": {
          "base_uri": "https://localhost:8080/",
          "height": 226
        },
        "id": "mSo0RO1jaDOu",
        "outputId": "73fe27a6-02dc-4a75-9992-5c8eebaf3534"
      },
      "outputs": [
        {
          "data": {
            "image/png": "[encoded data removed]",
            "text/plain": [
              "<Figure size 640x480 with 1 Axes>"
            ]
          },
          "metadata": {},
          "output_type": "display_data"
        }
      ],
      "source": [
        "import matplotlib.pyplot as plt\n",
        "import seaborn as sns\n",
        "import pandas as pd\n",
        "path=(\"/content/Excel viewer - transform and filter Excel files online with AI (6).xlsx\")\n",
        "data = pd.read_excel(path)\n",
        "\n",
        "plt.scatter(data['price'],data['area'])\n",
        "plt.title(\"scatter plot\")\n",
        "plt.xlabel(\"price\")\n",
        "plt.ylabel(\"area\")\n",
        "plt.show()"
      ]
    },
    {
      "cell_type": "code",
      "execution_count": null,
      "metadata": {
        "colab": {
          "base_uri": "https://localhost:8080/"
        },
        "id": "VXEaZ7v7rJ_U",
        "outputId": "778a2b7a-8a85-4a84-f1c7-09403c8aa291"
      },
      "outputs": [
        {
          "data": {
            "text/plain": [
              "Age        27.809160\n",
              "Attack      5.642672\n",
              "Block       0.845573\n",
              "Serve       0.535802\n",
              "Set         2.192595\n",
              "Dig         3.428397\n",
              "Receive     1.684198\n",
              "dtype: float64"
            ]
          },
          "execution_count": 16,
          "metadata": {},
          "output_type": "execute_result"
        }
      ],
      "source": [
        "import pandas as pd\n",
        "path=(\"/content/VNL2023.csv\")\n",
        "df=pd.read_csv(path)\n",
        "df.mean(numeric_only=True)"
      ]
    },
    {
      "cell_type": "code",
      "execution_count": null,
      "metadata": {
        "colab": {
          "base_uri": "https://localhost:8080/"
        },
        "id": "45Rm_yKob1p5",
        "outputId": "2c131c6e-35a2-48d8-8581-a89a39b7db4a"
      },
      "outputs": [
        {
          "data": {
            "text/plain": [
              "Age        27.00\n",
              "Attack      5.17\n",
              "Block       0.69\n",
              "Serve       0.42\n",
              "Set         0.00\n",
              "Dig         3.00\n",
              "Receive     0.33\n",
              "dtype: float64"
            ]
          },
          "execution_count": 18,
          "metadata": {},
          "output_type": "execute_result"
        }
      ],
      "source": [
        "df.median(numeric_only=True)"
      ]
    },
    {
      "cell_type": "code",
      "execution_count": null,
      "metadata": {
        "colab": {
          "base_uri": "https://localhost:8080/",
          "height": 81
        },
        "id": "o6ad2wSLb6E4",
        "outputId": "90d3e678-80a5-42a3-977e-e3357aabb646"
      },
      "outputs": [
        {
          "data": {
            "application/vnd.google.colaboratory.intrinsic+json": {
              "summary": "{\n  \"name\": \"df\",\n  \"rows\": 1,\n  \"fields\": [\n    {\n      \"column\": \"Age\",\n      \"properties\": {\n        \"dtype\": \"number\",\n        \"std\": null,\n        \"min\": 26,\n        \"max\": 26,\n        \"num_unique_values\": 1,\n        \"samples\": [\n          26\n        ],\n        \"semantic_type\": \"\",\n        \"description\": \"\"\n      }\n    },\n    {\n      \"column\": \"Attack\",\n      \"properties\": {\n        \"dtype\": \"number\",\n        \"std\": null,\n        \"min\": 0.0,\n        \"max\": 0.0,\n        \"num_unique_values\": 1,\n        \"samples\": [\n          0.0\n        ],\n        \"semantic_type\": \"\",\n        \"description\": \"\"\n      }\n    },\n    {\n      \"column\": \"Block\",\n      \"properties\": {\n        \"dtype\": \"number\",\n        \"std\": null,\n        \"min\": 0.0,\n        \"max\": 0.0,\n        \"num_unique_values\": 1,\n        \"samples\": [\n          0.0\n        ],\n        \"semantic_type\": \"\",\n        \"description\": \"\"\n      }\n    },\n    {\n      \"column\": \"Serve\",\n      \"properties\": {\n        \"dtype\": \"number\",\n        \"std\": null,\n        \"min\": 0.0,\n        \"max\": 0.0,\n        \"num_unique_values\": 1,\n        \"samples\": [\n          0.0\n        ],\n        \"semantic_type\": \"\",\n        \"description\": \"\"\n      }\n    },\n    {\n      \"column\": \"Set\",\n      \"properties\": {\n        \"dtype\": \"number\",\n        \"std\": null,\n        \"min\": 0.0,\n        \"max\": 0.0,\n        \"num_unique_values\": 1,\n        \"samples\": [\n          0.0\n        ],\n        \"semantic_type\": \"\",\n        \"description\": \"\"\n      }\n    },\n    {\n      \"column\": \"Dig\",\n      \"properties\": {\n        \"dtype\": \"number\",\n        \"std\": null,\n        \"min\": 2.38,\n        \"max\": 2.38,\n        \"num_unique_values\": 1,\n        \"samples\": [\n          2.38\n        ],\n        \"semantic_type\": \"\",\n        \"description\": \"\"\n      }\n    },\n    {\n      \"column\": \"Receive\",\n      \"properties\": {\n        \"dtype\": \"number\",\n        \"std\": null,\n        \"min\": 0.0,\n        \"max\": 0.0,\n        \"num_unique_values\": 1,\n        \"samples\": [\n          0.0\n        ],\n        \"semantic_type\": \"\",\n        \"description\": \"\"\n      }\n    }\n  ]\n}",
              "type": "dataframe"
            },
            "text/html": [
              "\n",
              "  <div id=\"df-6016a46e-6a00-43b1-967f-7fb3f6b957d6\" class=\"colab-df-container\">\n",
              "    <div>\n",
              "<style scoped>\n",
              "    .dataframe tbody tr th:only-of-type {\n",
              "        vertical-align: middle;\n",
              "    }\n",
              "\n",
              "    .dataframe tbody tr th {\n",
              "        vertical-align: top;\n",
              "    }\n",
              "\n",
              "    .dataframe thead th {\n",
              "        text-align: right;\n",
              "    }\n",
              "</style>\n",
              "<table border=\"1\" class=\"dataframe\">\n",
              "  <thead>\n",
              "    <tr style=\"text-align: right;\">\n",
              "      <th></th>\n",
              "      <th>Age</th>\n",
              "      <th>Attack</th>\n",
              "      <th>Block</th>\n",
              "      <th>Serve</th>\n",
              "      <th>Set</th>\n",
              "      <th>Dig</th>\n",
              "      <th>Receive</th>\n",
              "    </tr>\n",
              "  </thead>\n",
              "  <tbody>\n",
              "    <tr>\n",
              "      <th>0</th>\n",
              "      <td>26</td>\n",
              "      <td>0.0</td>\n",
              "      <td>0.0</td>\n",
              "      <td>0.0</td>\n",
              "      <td>0.0</td>\n",
              "      <td>2.38</td>\n",
              "      <td>0.0</td>\n",
              "    </tr>\n",
              "  </tbody>\n",
              "</table>\n",
              "</div>\n",
              "    <div class=\"colab-df-buttons\">\n",
              "\n",
              "  <div class=\"colab-df-container\">\n",
              "    <button class=\"colab-df-convert\" onclick=\"convertToInteractive('df-6016a46e-6a00-43b1-967f-7fb3f6b957d6')\"\n",
              "            title=\"Convert this dataframe to an interactive table.\"\n",
              "            style=\"display:none;\">\n",
              "\n",
              "  <svg xmlns=\"http://www.w3.org/2000/svg\" height=\"24px\" viewBox=\"0 -960 960 960\">\n",
              "    <path d=\"M120-120v-720h720v720H120Zm60-500h600v-160H180v160Zm220 220h160v-160H400v160Zm0 220h160v-160H400v160ZM180-400h160v-160H180v160Zm440 0h160v-160H620v160ZM180-180h160v-160H180v160Zm440 0h160v-160H620v160Z\"/>\n",
              "  </svg>\n",
              "    </button>\n",
              "\n",
              "  <style>\n",
              "    .colab-df-container {\n",
              "      display:flex;\n",
              "      gap: 12px;\n",
              "    }\n",
              "\n",
              "    .colab-df-convert {\n",
              "      background-color: #E8F0FE;\n",
              "      border: none;\n",
              "      border-radius: 50%;\n",
              "      cursor: pointer;\n",
              "      display: none;\n",
              "      fill: #1967D2;\n",
              "      height: 32px;\n",
              "      padding: 0 0 0 0;\n",
              "      width: 32px;\n",
              "    }\n",
              "\n",
              "    .colab-df-convert:hover {\n",
              "      background-color: #E2EBFA;\n",
              "      box-shadow: 0px 1px 2px rgba(60, 64, 67, 0.3), 0px 1px 3px 1px rgba(60, 64, 67, 0.15);\n",
              "      fill: #174EA6;\n",
              "    }\n",
              "\n",
              "    .colab-df-buttons div {\n",
              "      margin-bottom: 4px;\n",
              "    }\n",
              "\n",
              "    [theme=dark] .colab-df-convert {\n",
              "      background-color: #3B4455;\n",
              "      fill: #D2E3FC;\n",
              "    }\n",
              "\n",
              "    [theme=dark] .colab-df-convert:hover {\n",
              "      background-color: #434B5C;\n",
              "      box-shadow: 0px 1px 3px 1px rgba(0, 0, 0, 0.15);\n",
              "      filter: drop-shadow(0px 1px 2px rgba(0, 0, 0, 0.3));\n",
              "      fill: #FFFFFF;\n",
              "    }\n",
              "  </style>\n",
              "\n",
              "    <script>\n",
              "      const buttonEl =\n",
              "        document.querySelector('#df-6016a46e-6a00-43b1-967f-7fb3f6b957d6 button.colab-df-convert');\n",
              "      buttonEl.style.display =\n",
              "        google.colab.kernel.accessAllowed ? 'block' : 'none';\n",
              "\n",
              "      async function convertToInteractive(key) {\n",
              "        const element = document.querySelector('#df-6016a46e-6a00-43b1-967f-7fb3f6b957d6');\n",
              "        const dataTable =\n",
              "          await google.colab.kernel.invokeFunction('convertToInteractive',\n",
              "                                                    [key], {});\n",
              "        if (!dataTable) return;\n",
              "\n",
              "        const docLinkHtml = 'Like what you see? Visit the ' +\n",
              "          '<a target=\"_blank\" href=https://colab.research.google.com/notebooks/data_table.ipynb>data table notebook</a>'\n",
              "          + ' to learn more about interactive tables.';\n",
              "        element.innerHTML = '';\n",
              "        dataTable['output_type'] = 'display_data';\n",
              "        await google.colab.output.renderOutput(dataTable, element);\n",
              "        const docLink = document.createElement('div');\n",
              "        docLink.innerHTML = docLinkHtml;\n",
              "        element.appendChild(docLink);\n",
              "      }\n",
              "    </script>\n",
              "  </div>\n",
              "\n",
              "\n",
              "    </div>\n",
              "  </div>\n"
            ],
            "text/plain": [
              "   Age  Attack  Block  Serve  Set   Dig  Receive\n",
              "0   26     0.0    0.0    0.0  0.0  2.38      0.0"
            ]
          },
          "execution_count": 19,
          "metadata": {},
          "output_type": "execute_result"
        }
      ],
      "source": [
        "df.mode(numeric_only=True)"
      ]
    },
    {
      "cell_type": "code",
      "execution_count": null,
      "metadata": {
        "colab": {
          "base_uri": "https://localhost:8080/"
        },
        "id": "xwvoJ1vOb8sf",
        "outputId": "f221b3bd-967a-42b3-88c8-cc2c12b15231"
      },
      "outputs": [
        {
          "data": {
            "text/plain": [
              "Age        22.00\n",
              "Attack     15.80\n",
              "Block       4.08\n",
              "Serve       2.08\n",
              "Set        26.89\n",
              "Dig        10.91\n",
              "Receive     6.69\n",
              "dtype: float64"
            ]
          },
          "execution_count": 20,
          "metadata": {},
          "output_type": "execute_result"
        }
      ],
      "source": [
        "df.max(numeric_only=True) - df.min(numeric_only=True)"
      ]
    },
    {
      "cell_type": "code",
      "execution_count": null,
      "metadata": {
        "colab": {
          "base_uri": "https://localhost:8080/"
        },
        "id": "-Dufb7cUcE5_",
        "outputId": "b4db9953-30e3-46f9-96f5-36bb478d14a3"
      },
      "outputs": [
        {
          "data": {
            "text/plain": [
              "Age        17.524839\n",
              "Attack     18.115487\n",
              "Block       0.491256\n",
              "Serve       0.206431\n",
              "Set        36.380038\n",
              "Dig         4.317349\n",
              "Receive     3.959855\n",
              "dtype: float64"
            ]
          },
          "execution_count": 21,
          "metadata": {},
          "output_type": "execute_result"
        }
      ],
      "source": [
        "df.var(numeric_only=True)"
      ]
    },
    {
      "cell_type": "code",
      "execution_count": null,
      "metadata": {
        "colab": {
          "base_uri": "https://localhost:8080/"
        },
        "id": "9DEnYN3ecH2v",
        "outputId": "a4d2e7bd-3365-4049-f2d3-b7a602c29d00"
      },
      "outputs": [
        {
          "data": {
            "text/plain": [
              "Age        4.186268\n",
              "Attack     4.256229\n",
              "Block      0.700896\n",
              "Serve      0.454346\n",
              "Set        6.031587\n",
              "Dig        2.077823\n",
              "Receive    1.989939\n",
              "dtype: float64"
            ]
          },
          "execution_count": 22,
          "metadata": {},
          "output_type": "execute_result"
        }
      ],
      "source": [
        "df.std(numeric_only=True)"
      ]
    },
    {
      "cell_type": "code",
      "execution_count": null,
      "metadata": {
        "colab": {
          "base_uri": "https://localhost:8080/"
        },
        "id": "FqFL6gaDpIe5",
        "outputId": "4cee69bd-6314-48ba-f642-e80a0c938d48"
      },
      "outputs": [
        {
          "name": "stdout",
          "output_type": "stream",
          "text": [
            "f_value:1.3012735248526242\n",
            "p_value:0.19359819902229683\n"
          ]
        }
      ],
      "source": [
        "import pandas as pd\n",
        "path=(\"/content/VNL2023.csv\")\n",
        "df=pd.read_csv(path)\n",
        "from scipy import stats\n",
        "group=df.groupby('Age')['Attack'].apply(list)\n",
        "f_value, p_value=stats.f_oneway(*group)\n",
        "print(f\"f_value:{f_value}\")\n",
        "print(f\"p_value:{p_value}\")"
      ]
    },
    {
      "cell_type": "code",
      "execution_count": null,
      "metadata": {
        "colab": {
          "base_uri": "https://localhost:8080/"
        },
        "id": "bTGDHq6OS0il",
        "outputId": "60afbeba-ceb7-41b6-fe4a-09d67224045a"
      },
      "outputs": [
        {
          "name": "stdout",
          "output_type": "stream",
          "text": [
            "one way ANOVA\n",
            "f_value:2250.433703990122\n",
            "p_value:6.71970140724662e-215\n"
          ]
        }
      ],
      "source": [
        "import pandas as pd\n",
        "path=(\"/content/VNL2023.csv\")\n",
        "df=pd.read_csv(path)\n",
        "from scipy import stats\n",
        "f_value,p_value=stats.f_oneway(df['Age'],df['Block'],df[\"Attack\"])\n",
        "print(\"one way ANOVA\")\n",
        "print(f\"f_value:{f_value}\")\n",
        "print(f\"p_value:{p_value}\")"
      ]
    },
    {
      "cell_type": "code",
      "execution_count": null,
      "metadata": {
        "colab": {
          "base_uri": "https://localhost:8080/"
        },
        "id": "372ujx1_pt3i",
        "outputId": "0fbb4ffb-137f-43fe-ea09-586c45f779c6"
      },
      "outputs": [
        {
          "name": "stdout",
          "output_type": "stream",
          "text": [
            "kruskal-wallis Test:H_stat=2.0,P_val0.36787944117144245\n"
          ]
        }
      ],
      "source": [
        "from scipy.stats import kruskal\n",
        "df=pd.read_csv(\"/content/VNL2023.csv\")\n",
        "h_stat, p_val = kruskal(\"Age\",\"Attack\",\"Block\")\n",
        "print(f\"kruskal-wallis Test:H_stat={h_stat},P_val{p_val}\")"
      ]
    },
    {
      "cell_type": "code",
      "execution_count": null,
      "metadata": {
        "colab": {
          "base_uri": "https://localhost:8080/"
        },
        "id": "YRfr3lfGxrVS",
        "outputId": "549c2bb1-1d10-460e-cc5e-745f06fd9a91"
      },
      "outputs": [
        {
          "name": "stdout",
          "output_type": "stream",
          "text": [
            "One-sample t-test: t_stat=76.03201686344768, p_val=1.2527841974469278e-109\n"
          ]
        }
      ],
      "source": [
        "import pandas as pd\n",
        "import scipy.stats as stats\n",
        "df=pd.read_csv('/content/VNL2023.csv')\n",
        "Age_df=df['Age'].values\n",
        "t_stat, p_val=stats.ttest_1samp(Age_df, popmean=0)\n",
        "print(f\"One-sample t-test: t_stat={t_stat}, p_val={p_val}\")"
      ]
    },
    {
      "cell_type": "code",
      "execution_count": null,
      "metadata": {
        "colab": {
          "base_uri": "https://localhost:8080/"
        },
        "id": "J71aGLaKyDkx",
        "outputId": "2b5b96e1-0e8f-4cc3-eb90-fc8a7bbd8fe1"
      },
      "outputs": [
        {
          "name": "stdout",
          "output_type": "stream",
          "text": [
            "Chi-Square Test of Independent: chi2=1228.9133583979947, p=0.8438054763137318, dog=1280, expected=[[0.25954198 0.01526718 0.01526718 ... 0.01526718 0.01526718 0.01526718]\n",
            " [0.12977099 0.00763359 0.00763359 ... 0.00763359 0.00763359 0.00763359]\n",
            " [0.12977099 0.00763359 0.00763359 ... 0.00763359 0.00763359 0.00763359]\n",
            " ...\n",
            " [0.25954198 0.01526718 0.01526718 ... 0.01526718 0.01526718 0.01526718]\n",
            " [0.12977099 0.00763359 0.00763359 ... 0.00763359 0.00763359 0.00763359]\n",
            " [0.12977099 0.00763359 0.00763359 ... 0.00763359 0.00763359 0.00763359]]\n"
          ]
        }
      ],
      "source": [
        "import pandas as pd\n",
        "from scipy.stats import chi2_contingency\n",
        "df=pd.read_csv('/content/VNL2023.csv')\n",
        "contingency_table=pd.crosstab(df['Age'],df['Block'])\n",
        "chi2, p, dof, ex = chi2_contingency(contingency_table)\n",
        "print(f\"Chi-Square Test of Independent: chi2={chi2}, p={p}, dog={dof}, expected={ex}\")"
      ]
    },
    {
      "cell_type": "code",
      "execution_count": null,
      "metadata": {
        "colab": {
          "base_uri": "https://localhost:8080/",
          "height": 269
        },
        "id": "zydL_fdycLnG",
        "outputId": "13de1170-3f89-4609-836a-ee869856e310"
      },
      "outputs": [
        {
          "data": {
            "application/vnd.google.colaboratory.intrinsic+json": {
              "summary": "{\n  \"name\": \"df\",\n  \"rows\": 7,\n  \"fields\": [\n    {\n      \"column\": \"Age\",\n      \"properties\": {\n        \"dtype\": \"number\",\n        \"std\": 6.881121706823628,\n        \"min\": -3.1688708162066948,\n        \"max\": 17.524838520258363,\n        \"num_unique_values\": 7,\n        \"samples\": [\n          17.524838520258363,\n          -3.1688708162066948,\n          1.453845566647093\n        ],\n        \"semantic_type\": \"\",\n        \"description\": \"\"\n      }\n    },\n    {\n      \"column\": \"Attack\",\n      \"properties\": {\n        \"dtype\": \"number\",\n        \"std\": 8.753082965901068,\n        \"min\": -11.05953852613037,\n        \"max\": 18.115487422196118,\n        \"num_unique_values\": 7,\n        \"samples\": [\n          -3.1688708162066948,\n          18.115487422196118,\n          -0.8755187610099832\n        ],\n        \"semantic_type\": \"\",\n        \"description\": \"\"\n      }\n    },\n    {\n      \"column\": \"Block\",\n      \"properties\": {\n        \"dtype\": \"number\",\n        \"std\": 0.586419006572091,\n        \"min\": -0.5581114973576046,\n        \"max\": 1.0095419201409277,\n        \"num_unique_values\": 7,\n        \"samples\": [\n          -0.2964668232530828,\n          1.0095419201409277,\n          -0.5073117674691721\n        ],\n        \"semantic_type\": \"\",\n        \"description\": \"\"\n      }\n    },\n    {\n      \"column\": \"Serve\",\n      \"properties\": {\n        \"dtype\": \"number\",\n        \"std\": 0.6191350976841072,\n        \"min\": -0.4242605578391073,\n        \"max\": 1.4868220728126844,\n        \"num_unique_values\": 7,\n        \"samples\": [\n          -0.20611509101585448,\n          1.4868220728126844,\n          -0.049563705226071744\n        ],\n        \"semantic_type\": \"\",\n        \"description\": \"\"\n      }\n    },\n    {\n      \"column\": \"Set\",\n      \"properties\": {\n        \"dtype\": \"number\",\n        \"std\": 15.165811826002514,\n        \"min\": -11.05953852613037,\n        \"max\": 36.38003782736347,\n        \"num_unique_values\": 7,\n        \"samples\": [\n          4.488345273047563,\n          -11.05953852613037,\n          1.650030346447446\n        ],\n        \"semantic_type\": \"\",\n        \"description\": \"\"\n      }\n    },\n    {\n      \"column\": \"Dig\",\n      \"properties\": {\n        \"dtype\": \"number\",\n        \"std\": 1.8564164208750389,\n        \"min\": -0.8755187610099832,\n        \"max\": 4.317348948913684,\n        \"num_unique_values\": 7,\n        \"samples\": [\n          1.453845566647093,\n          -0.8755187610099832,\n          4.317348948913684\n        ],\n        \"semantic_type\": \"\",\n        \"description\": \"\"\n      }\n    },\n    {\n      \"column\": \"Receive\",\n      \"properties\": {\n        \"dtype\": \"number\",\n        \"std\": 2.4458146445432503,\n        \"min\": -3.671188672930124,\n        \"max\": 3.9598553141514983,\n        \"num_unique_values\": 7,\n        \"samples\": [\n          -0.09219260129183772,\n          1.4389210041103933,\n          2.5831067821491493\n        ],\n        \"semantic_type\": \"\",\n        \"description\": \"\"\n      }\n    }\n  ]\n}",
              "type": "dataframe"
            },
            "text/html": [
              "\n",
              "  <div id=\"df-29cd8992-894e-4221-8679-4b68045a4997\" class=\"colab-df-container\">\n",
              "    <div>\n",
              "<style scoped>\n",
              "    .dataframe tbody tr th:only-of-type {\n",
              "        vertical-align: middle;\n",
              "    }\n",
              "\n",
              "    .dataframe tbody tr th {\n",
              "        vertical-align: top;\n",
              "    }\n",
              "\n",
              "    .dataframe thead th {\n",
              "        text-align: right;\n",
              "    }\n",
              "</style>\n",
              "<table border=\"1\" class=\"dataframe\">\n",
              "  <thead>\n",
              "    <tr style=\"text-align: right;\">\n",
              "      <th></th>\n",
              "      <th>Age</th>\n",
              "      <th>Attack</th>\n",
              "      <th>Block</th>\n",
              "      <th>Serve</th>\n",
              "      <th>Set</th>\n",
              "      <th>Dig</th>\n",
              "      <th>Receive</th>\n",
              "    </tr>\n",
              "  </thead>\n",
              "  <tbody>\n",
              "    <tr>\n",
              "      <th>Age</th>\n",
              "      <td>17.524839</td>\n",
              "      <td>-3.168871</td>\n",
              "      <td>-0.296467</td>\n",
              "      <td>-0.206115</td>\n",
              "      <td>4.488345</td>\n",
              "      <td>1.453846</td>\n",
              "      <td>-0.092193</td>\n",
              "    </tr>\n",
              "    <tr>\n",
              "      <th>Attack</th>\n",
              "      <td>-3.168871</td>\n",
              "      <td>18.115487</td>\n",
              "      <td>1.009542</td>\n",
              "      <td>1.486822</td>\n",
              "      <td>-11.059539</td>\n",
              "      <td>-0.875519</td>\n",
              "      <td>1.438921</td>\n",
              "    </tr>\n",
              "    <tr>\n",
              "      <th>Block</th>\n",
              "      <td>-0.296467</td>\n",
              "      <td>1.009542</td>\n",
              "      <td>0.491256</td>\n",
              "      <td>0.106984</td>\n",
              "      <td>-0.558111</td>\n",
              "      <td>-0.507312</td>\n",
              "      <td>-0.369894</td>\n",
              "    </tr>\n",
              "    <tr>\n",
              "      <th>Serve</th>\n",
              "      <td>-0.206115</td>\n",
              "      <td>1.486822</td>\n",
              "      <td>0.106984</td>\n",
              "      <td>0.206431</td>\n",
              "      <td>-0.424261</td>\n",
              "      <td>-0.049564</td>\n",
              "      <td>0.035842</td>\n",
              "    </tr>\n",
              "    <tr>\n",
              "      <th>Set</th>\n",
              "      <td>4.488345</td>\n",
              "      <td>-11.059539</td>\n",
              "      <td>-0.558111</td>\n",
              "      <td>-0.424261</td>\n",
              "      <td>36.380038</td>\n",
              "      <td>1.650030</td>\n",
              "      <td>-3.671189</td>\n",
              "    </tr>\n",
              "    <tr>\n",
              "      <th>Dig</th>\n",
              "      <td>1.453846</td>\n",
              "      <td>-0.875519</td>\n",
              "      <td>-0.507312</td>\n",
              "      <td>-0.049564</td>\n",
              "      <td>1.650030</td>\n",
              "      <td>4.317349</td>\n",
              "      <td>2.583107</td>\n",
              "    </tr>\n",
              "    <tr>\n",
              "      <th>Receive</th>\n",
              "      <td>-0.092193</td>\n",
              "      <td>1.438921</td>\n",
              "      <td>-0.369894</td>\n",
              "      <td>0.035842</td>\n",
              "      <td>-3.671189</td>\n",
              "      <td>2.583107</td>\n",
              "      <td>3.959855</td>\n",
              "    </tr>\n",
              "  </tbody>\n",
              "</table>\n",
              "</div>\n",
              "    <div class=\"colab-df-buttons\">\n",
              "\n",
              "  <div class=\"colab-df-container\">\n",
              "    <button class=\"colab-df-convert\" onclick=\"convertToInteractive('df-29cd8992-894e-4221-8679-4b68045a4997')\"\n",
              "            title=\"Convert this dataframe to an interactive table.\"\n",
              "            style=\"display:none;\">\n",
              "\n",
              "  <svg xmlns=\"http://www.w3.org/2000/svg\" height=\"24px\" viewBox=\"0 -960 960 960\">\n",
              "    <path d=\"M120-120v-720h720v720H120Zm60-500h600v-160H180v160Zm220 220h160v-160H400v160Zm0 220h160v-160H400v160ZM180-400h160v-160H180v160Zm440 0h160v-160H620v160ZM180-180h160v-160H180v160Zm440 0h160v-160H620v160Z\"/>\n",
              "  </svg>\n",
              "    </button>\n",
              "\n",
              "  <style>\n",
              "    .colab-df-container {\n",
              "      display:flex;\n",
              "      gap: 12px;\n",
              "    }\n",
              "\n",
              "    .colab-df-convert {\n",
              "      background-color: #E8F0FE;\n",
              "      border: none;\n",
              "      border-radius: 50%;\n",
              "      cursor: pointer;\n",
              "      display: none;\n",
              "      fill: #1967D2;\n",
              "      height: 32px;\n",
              "      padding: 0 0 0 0;\n",
              "      width: 32px;\n",
              "    }\n",
              "\n",
              "    .colab-df-convert:hover {\n",
              "      background-color: #E2EBFA;\n",
              "      box-shadow: 0px 1px 2px rgba(60, 64, 67, 0.3), 0px 1px 3px 1px rgba(60, 64, 67, 0.15);\n",
              "      fill: #174EA6;\n",
              "    }\n",
              "\n",
              "    .colab-df-buttons div {\n",
              "      margin-bottom: 4px;\n",
              "    }\n",
              "\n",
              "    [theme=dark] .colab-df-convert {\n",
              "      background-color: #3B4455;\n",
              "      fill: #D2E3FC;\n",
              "    }\n",
              "\n",
              "    [theme=dark] .colab-df-convert:hover {\n",
              "      background-color: #434B5C;\n",
              "      box-shadow: 0px 1px 3px 1px rgba(0, 0, 0, 0.15);\n",
              "      filter: drop-shadow(0px 1px 2px rgba(0, 0, 0, 0.3));\n",
              "      fill: #FFFFFF;\n",
              "    }\n",
              "  </style>\n",
              "\n",
              "    <script>\n",
              "      const buttonEl =\n",
              "        document.querySelector('#df-29cd8992-894e-4221-8679-4b68045a4997 button.colab-df-convert');\n",
              "      buttonEl.style.display =\n",
              "        google.colab.kernel.accessAllowed ? 'block' : 'none';\n",
              "\n",
              "      async function convertToInteractive(key) {\n",
              "        const element = document.querySelector('#df-29cd8992-894e-4221-8679-4b68045a4997');\n",
              "        const dataTable =\n",
              "          await google.colab.kernel.invokeFunction('convertToInteractive',\n",
              "                                                    [key], {});\n",
              "        if (!dataTable) return;\n",
              "\n",
              "        const docLinkHtml = 'Like what you see? Visit the ' +\n",
              "          '<a target=\"_blank\" href=https://colab.research.google.com/notebooks/data_table.ipynb>data table notebook</a>'\n",
              "          + ' to learn more about interactive tables.';\n",
              "        element.innerHTML = '';\n",
              "        dataTable['output_type'] = 'display_data';\n",
              "        await google.colab.output.renderOutput(dataTable, element);\n",
              "        const docLink = document.createElement('div');\n",
              "        docLink.innerHTML = docLinkHtml;\n",
              "        element.appendChild(docLink);\n",
              "      }\n",
              "    </script>\n",
              "  </div>\n",
              "\n",
              "\n",
              "<div id=\"df-c5241b40-bea3-4039-a2f5-d493e4a78775\">\n",
              "  <button class=\"colab-df-quickchart\" onclick=\"quickchart('df-c5241b40-bea3-4039-a2f5-d493e4a78775')\"\n",
              "            title=\"Suggest charts\"\n",
              "            style=\"display:none;\">\n",
              "\n",
              "<svg xmlns=\"http://www.w3.org/2000/svg\" height=\"24px\"viewBox=\"0 0 24 24\"\n",
              "     width=\"24px\">\n",
              "    <g>\n",
              "        <path d=\"M19 3H5c-1.1 0-2 .9-2 2v14c0 1.1.9 2 2 2h14c1.1 0 2-.9 2-2V5c0-1.1-.9-2-2-2zM9 17H7v-7h2v7zm4 0h-2V7h2v10zm4 0h-2v-4h2v4z\"/>\n",
              "    </g>\n",
              "</svg>\n",
              "  </button>\n",
              "\n",
              "<style>\n",
              "  .colab-df-quickchart {\n",
              "      --bg-color: #E8F0FE;\n",
              "      --fill-color: #1967D2;\n",
              "      --hover-bg-color: #E2EBFA;\n",
              "      --hover-fill-color: #174EA6;\n",
              "      --disabled-fill-color: #AAA;\n",
              "      --disabled-bg-color: #DDD;\n",
              "  }\n",
              "\n",
              "  [theme=dark] .colab-df-quickchart {\n",
              "      --bg-color: #3B4455;\n",
              "      --fill-color: #D2E3FC;\n",
              "      --hover-bg-color: #434B5C;\n",
              "      --hover-fill-color: #FFFFFF;\n",
              "      --disabled-bg-color: #3B4455;\n",
              "      --disabled-fill-color: #666;\n",
              "  }\n",
              "\n",
              "  .colab-df-quickchart {\n",
              "    background-color: var(--bg-color);\n",
              "    border: none;\n",
              "    border-radius: 50%;\n",
              "    cursor: pointer;\n",
              "    display: none;\n",
              "    fill: var(--fill-color);\n",
              "    height: 32px;\n",
              "    padding: 0;\n",
              "    width: 32px;\n",
              "  }\n",
              "\n",
              "  .colab-df-quickchart:hover {\n",
              "    background-color: var(--hover-bg-color);\n",
              "    box-shadow: 0 1px 2px rgba(60, 64, 67, 0.3), 0 1px 3px 1px rgba(60, 64, 67, 0.15);\n",
              "    fill: var(--button-hover-fill-color);\n",
              "  }\n",
              "\n",
              "  .colab-df-quickchart-complete:disabled,\n",
              "  .colab-df-quickchart-complete:disabled:hover {\n",
              "    background-color: var(--disabled-bg-color);\n",
              "    fill: var(--disabled-fill-color);\n",
              "    box-shadow: none;\n",
              "  }\n",
              "\n",
              "  .colab-df-spinner {\n",
              "    border: 2px solid var(--fill-color);\n",
              "    border-color: transparent;\n",
              "    border-bottom-color: var(--fill-color);\n",
              "    animation:\n",
              "      spin 1s steps(1) infinite;\n",
              "  }\n",
              "\n",
              "  @keyframes spin {\n",
              "    0% {\n",
              "      border-color: transparent;\n",
              "      border-bottom-color: var(--fill-color);\n",
              "      border-left-color: var(--fill-color);\n",
              "    }\n",
              "    20% {\n",
              "      border-color: transparent;\n",
              "      border-left-color: var(--fill-color);\n",
              "      border-top-color: var(--fill-color);\n",
              "    }\n",
              "    30% {\n",
              "      border-color: transparent;\n",
              "      border-left-color: var(--fill-color);\n",
              "      border-top-color: var(--fill-color);\n",
              "      border-right-color: var(--fill-color);\n",
              "    }\n",
              "    40% {\n",
              "      border-color: transparent;\n",
              "      border-right-color: var(--fill-color);\n",
              "      border-top-color: var(--fill-color);\n",
              "    }\n",
              "    60% {\n",
              "      border-color: transparent;\n",
              "      border-right-color: var(--fill-color);\n",
              "    }\n",
              "    80% {\n",
              "      border-color: transparent;\n",
              "      border-right-color: var(--fill-color);\n",
              "      border-bottom-color: var(--fill-color);\n",
              "    }\n",
              "    90% {\n",
              "      border-color: transparent;\n",
              "      border-bottom-color: var(--fill-color);\n",
              "    }\n",
              "  }\n",
              "</style>\n",
              "\n",
              "  <script>\n",
              "    async function quickchart(key) {\n",
              "      const quickchartButtonEl =\n",
              "        document.querySelector('#' + key + ' button');\n",
              "      quickchartButtonEl.disabled = true;  // To prevent multiple clicks.\n",
              "      quickchartButtonEl.classList.add('colab-df-spinner');\n",
              "      try {\n",
              "        const charts = await google.colab.kernel.invokeFunction(\n",
              "            'suggestCharts', [key], {});\n",
              "      } catch (error) {\n",
              "        console.error('Error during call to suggestCharts:', error);\n",
              "      }\n",
              "      quickchartButtonEl.classList.remove('colab-df-spinner');\n",
              "      quickchartButtonEl.classList.add('colab-df-quickchart-complete');\n",
              "    }\n",
              "    (() => {\n",
              "      let quickchartButtonEl =\n",
              "        document.querySelector('#df-c5241b40-bea3-4039-a2f5-d493e4a78775 button');\n",
              "      quickchartButtonEl.style.display =\n",
              "        google.colab.kernel.accessAllowed ? 'block' : 'none';\n",
              "    })();\n",
              "  </script>\n",
              "</div>\n",
              "\n",
              "    </div>\n",
              "  </div>\n"
            ],
            "text/plain": [
              "               Age     Attack     Block     Serve        Set       Dig  \\\n",
              "Age      17.524839  -3.168871 -0.296467 -0.206115   4.488345  1.453846   \n",
              "Attack   -3.168871  18.115487  1.009542  1.486822 -11.059539 -0.875519   \n",
              "Block    -0.296467   1.009542  0.491256  0.106984  -0.558111 -0.507312   \n",
              "Serve    -0.206115   1.486822  0.106984  0.206431  -0.424261 -0.049564   \n",
              "Set       4.488345 -11.059539 -0.558111 -0.424261  36.380038  1.650030   \n",
              "Dig       1.453846  -0.875519 -0.507312 -0.049564   1.650030  4.317349   \n",
              "Receive  -0.092193   1.438921 -0.369894  0.035842  -3.671189  2.583107   \n",
              "\n",
              "          Receive  \n",
              "Age     -0.092193  \n",
              "Attack   1.438921  \n",
              "Block   -0.369894  \n",
              "Serve    0.035842  \n",
              "Set     -3.671189  \n",
              "Dig      2.583107  \n",
              "Receive  3.959855  "
            ]
          },
          "execution_count": 23,
          "metadata": {},
          "output_type": "execute_result"
        }
      ],
      "source": [
        "df.cov(numeric_only=True)"
      ]
    },
    {
      "cell_type": "code",
      "execution_count": null,
      "metadata": {
        "colab": {
          "base_uri": "https://localhost:8080/",
          "height": 269
        },
        "id": "WKo7d7BJcOLH",
        "outputId": "eac1c569-cafa-4082-f87a-3f813c2d21e2"
      },
      "outputs": [
        {
          "data": {
            "application/vnd.google.colaboratory.intrinsic+json": {
              "summary": "{\n  \"name\": \"df\",\n  \"rows\": 7,\n  \"fields\": [\n    {\n      \"column\": \"Age\",\n      \"properties\": {\n        \"dtype\": \"number\",\n        \"std\": 0.40522393799185613,\n        \"min\": -0.17784944346592393,\n        \"max\": 1.0,\n        \"num_unique_values\": 7,\n        \"samples\": [\n          1.0,\n          -0.17784944346592393,\n          0.16714088141176542\n        ],\n        \"semantic_type\": \"\",\n        \"description\": \"\"\n      }\n    },\n    {\n      \"column\": \"Attack\",\n      \"properties\": {\n        \"dtype\": \"number\",\n        \"std\": 0.5179520126319203,\n        \"min\": -0.4308046881464203,\n        \"max\": 1.0,\n        \"num_unique_values\": 7,\n        \"samples\": [\n          -0.17784944346592393,\n          1.0,\n          -0.09899924190056666\n        ],\n        \"semantic_type\": \"\",\n        \"description\": \"\"\n      }\n    },\n    {\n      \"column\": \"Block\",\n      \"properties\": {\n        \"dtype\": \"number\",\n        \"std\": 0.47413492848794037,\n        \"min\": -0.3483474128719674,\n        \"max\": 1.0,\n        \"num_unique_values\": 7,\n        \"samples\": [\n          -0.10104046040183137,\n          0.3384118596565992,\n          -0.3483474128719674\n        ],\n        \"semantic_type\": \"\",\n        \"description\": \"\"\n      }\n    },\n    {\n      \"column\": \"Serve\",\n      \"properties\": {\n        \"dtype\": \"number\",\n        \"std\": 0.4593973936154906,\n        \"min\": -0.1548153233503175,\n        \"max\": 1.0,\n        \"num_unique_values\": 7,\n        \"samples\": [\n          -0.10836664717407096,\n          0.7688592552474127,\n          -0.05250105712562919\n        ],\n        \"semantic_type\": \"\",\n        \"description\": \"\"\n      }\n    },\n    {\n      \"column\": \"Set\",\n      \"properties\": {\n        \"dtype\": \"number\",\n        \"std\": 0.47570989717481593,\n        \"min\": -0.4308046881464203,\n        \"max\": 1.0,\n        \"num_unique_values\": 7,\n        \"samples\": [\n          0.17775739318621817,\n          -0.4308046881464203,\n          0.13165937299833405\n        ],\n        \"semantic_type\": \"\",\n        \"description\": \"\"\n      }\n    },\n    {\n      \"column\": \"Dig\",\n      \"properties\": {\n        \"dtype\": \"number\",\n        \"std\": 0.4618639709086767,\n        \"min\": -0.3483474128719674,\n        \"max\": 1.0,\n        \"num_unique_values\": 7,\n        \"samples\": [\n          0.16714088141176542,\n          -0.09899924190056666,\n          1.0\n        ],\n        \"semantic_type\": \"\",\n        \"description\": \"\"\n      }\n    },\n    {\n      \"column\": \"Receive\",\n      \"properties\": {\n        \"dtype\": \"number\",\n        \"std\": 0.47622898157344706,\n        \"min\": -0.3058690066233198,\n        \"max\": 1.0,\n        \"num_unique_values\": 7,\n        \"samples\": [\n          -0.011066986947250683,\n          0.16989174661044898,\n          0.6247325364050703\n        ],\n        \"semantic_type\": \"\",\n        \"description\": \"\"\n      }\n    }\n  ]\n}",
              "type": "dataframe"
            },
            "text/html": [
              "\n",
              "  <div id=\"df-21facc2a-edda-4350-a8f8-8a76911ace83\" class=\"colab-df-container\">\n",
              "    <div>\n",
              "<style scoped>\n",
              "    .dataframe tbody tr th:only-of-type {\n",
              "        vertical-align: middle;\n",
              "    }\n",
              "\n",
              "    .dataframe tbody tr th {\n",
              "        vertical-align: top;\n",
              "    }\n",
              "\n",
              "    .dataframe thead th {\n",
              "        text-align: right;\n",
              "    }\n",
              "</style>\n",
              "<table border=\"1\" class=\"dataframe\">\n",
              "  <thead>\n",
              "    <tr style=\"text-align: right;\">\n",
              "      <th></th>\n",
              "      <th>Age</th>\n",
              "      <th>Attack</th>\n",
              "      <th>Block</th>\n",
              "      <th>Serve</th>\n",
              "      <th>Set</th>\n",
              "      <th>Dig</th>\n",
              "      <th>Receive</th>\n",
              "    </tr>\n",
              "  </thead>\n",
              "  <tbody>\n",
              "    <tr>\n",
              "      <th>Age</th>\n",
              "      <td>1.000000</td>\n",
              "      <td>-0.177849</td>\n",
              "      <td>-0.101040</td>\n",
              "      <td>-0.108367</td>\n",
              "      <td>0.177757</td>\n",
              "      <td>0.167141</td>\n",
              "      <td>-0.011067</td>\n",
              "    </tr>\n",
              "    <tr>\n",
              "      <th>Attack</th>\n",
              "      <td>-0.177849</td>\n",
              "      <td>1.000000</td>\n",
              "      <td>0.338412</td>\n",
              "      <td>0.768859</td>\n",
              "      <td>-0.430805</td>\n",
              "      <td>-0.098999</td>\n",
              "      <td>0.169892</td>\n",
              "    </tr>\n",
              "    <tr>\n",
              "      <th>Block</th>\n",
              "      <td>-0.101040</td>\n",
              "      <td>0.338412</td>\n",
              "      <td>1.000000</td>\n",
              "      <td>0.335954</td>\n",
              "      <td>-0.132019</td>\n",
              "      <td>-0.348347</td>\n",
              "      <td>-0.265206</td>\n",
              "    </tr>\n",
              "    <tr>\n",
              "      <th>Serve</th>\n",
              "      <td>-0.108367</td>\n",
              "      <td>0.768859</td>\n",
              "      <td>0.335954</td>\n",
              "      <td>1.000000</td>\n",
              "      <td>-0.154815</td>\n",
              "      <td>-0.052501</td>\n",
              "      <td>0.039642</td>\n",
              "    </tr>\n",
              "    <tr>\n",
              "      <th>Set</th>\n",
              "      <td>0.177757</td>\n",
              "      <td>-0.430805</td>\n",
              "      <td>-0.132019</td>\n",
              "      <td>-0.154815</td>\n",
              "      <td>1.000000</td>\n",
              "      <td>0.131659</td>\n",
              "      <td>-0.305869</td>\n",
              "    </tr>\n",
              "    <tr>\n",
              "      <th>Dig</th>\n",
              "      <td>0.167141</td>\n",
              "      <td>-0.098999</td>\n",
              "      <td>-0.348347</td>\n",
              "      <td>-0.052501</td>\n",
              "      <td>0.131659</td>\n",
              "      <td>1.000000</td>\n",
              "      <td>0.624733</td>\n",
              "    </tr>\n",
              "    <tr>\n",
              "      <th>Receive</th>\n",
              "      <td>-0.011067</td>\n",
              "      <td>0.169892</td>\n",
              "      <td>-0.265206</td>\n",
              "      <td>0.039642</td>\n",
              "      <td>-0.305869</td>\n",
              "      <td>0.624733</td>\n",
              "      <td>1.000000</td>\n",
              "    </tr>\n",
              "  </tbody>\n",
              "</table>\n",
              "</div>\n",
              "    <div class=\"colab-df-buttons\">\n",
              "\n",
              "  <div class=\"colab-df-container\">\n",
              "    <button class=\"colab-df-convert\" onclick=\"convertToInteractive('df-21facc2a-edda-4350-a8f8-8a76911ace83')\"\n",
              "            title=\"Convert this dataframe to an interactive table.\"\n",
              "            style=\"display:none;\">\n",
              "\n",
              "  <svg xmlns=\"http://www.w3.org/2000/svg\" height=\"24px\" viewBox=\"0 -960 960 960\">\n",
              "    <path d=\"M120-120v-720h720v720H120Zm60-500h600v-160H180v160Zm220 220h160v-160H400v160Zm0 220h160v-160H400v160ZM180-400h160v-160H180v160Zm440 0h160v-160H620v160ZM180-180h160v-160H180v160Zm440 0h160v-160H620v160Z\"/>\n",
              "  </svg>\n",
              "    </button>\n",
              "\n",
              "  <style>\n",
              "    .colab-df-container {\n",
              "      display:flex;\n",
              "      gap: 12px;\n",
              "    }\n",
              "\n",
              "    .colab-df-convert {\n",
              "      background-color: #E8F0FE;\n",
              "      border: none;\n",
              "      border-radius: 50%;\n",
              "      cursor: pointer;\n",
              "      display: none;\n",
              "      fill: #1967D2;\n",
              "      height: 32px;\n",
              "      padding: 0 0 0 0;\n",
              "      width: 32px;\n",
              "    }\n",
              "\n",
              "    .colab-df-convert:hover {\n",
              "      background-color: #E2EBFA;\n",
              "      box-shadow: 0px 1px 2px rgba(60, 64, 67, 0.3), 0px 1px 3px 1px rgba(60, 64, 67, 0.15);\n",
              "      fill: #174EA6;\n",
              "    }\n",
              "\n",
              "    .colab-df-buttons div {\n",
              "      margin-bottom: 4px;\n",
              "    }\n",
              "\n",
              "    [theme=dark] .colab-df-convert {\n",
              "      background-color: #3B4455;\n",
              "      fill: #D2E3FC;\n",
              "    }\n",
              "\n",
              "    [theme=dark] .colab-df-convert:hover {\n",
              "      background-color: #434B5C;\n",
              "      box-shadow: 0px 1px 3px 1px rgba(0, 0, 0, 0.15);\n",
              "      filter: drop-shadow(0px 1px 2px rgba(0, 0, 0, 0.3));\n",
              "      fill: #FFFFFF;\n",
              "    }\n",
              "  </style>\n",
              "\n",
              "    <script>\n",
              "      const buttonEl =\n",
              "        document.querySelector('#df-21facc2a-edda-4350-a8f8-8a76911ace83 button.colab-df-convert');\n",
              "      buttonEl.style.display =\n",
              "        google.colab.kernel.accessAllowed ? 'block' : 'none';\n",
              "\n",
              "      async function convertToInteractive(key) {\n",
              "        const element = document.querySelector('#df-21facc2a-edda-4350-a8f8-8a76911ace83');\n",
              "        const dataTable =\n",
              "          await google.colab.kernel.invokeFunction('convertToInteractive',\n",
              "                                                    [key], {});\n",
              "        if (!dataTable) return;\n",
              "\n",
              "        const docLinkHtml = 'Like what you see? Visit the ' +\n",
              "          '<a target=\"_blank\" href=https://colab.research.google.com/notebooks/data_table.ipynb>data table notebook</a>'\n",
              "          + ' to learn more about interactive tables.';\n",
              "        element.innerHTML = '';\n",
              "        dataTable['output_type'] = 'display_data';\n",
              "        await google.colab.output.renderOutput(dataTable, element);\n",
              "        const docLink = document.createElement('div');\n",
              "        docLink.innerHTML = docLinkHtml;\n",
              "        element.appendChild(docLink);\n",
              "      }\n",
              "    </script>\n",
              "  </div>\n",
              "\n",
              "\n",
              "<div id=\"df-702e3ef8-7a5f-40ab-aa4b-fd4be45b6620\">\n",
              "  <button class=\"colab-df-quickchart\" onclick=\"quickchart('df-702e3ef8-7a5f-40ab-aa4b-fd4be45b6620')\"\n",
              "            title=\"Suggest charts\"\n",
              "            style=\"display:none;\">\n",
              "\n",
              "<svg xmlns=\"http://www.w3.org/2000/svg\" height=\"24px\"viewBox=\"0 0 24 24\"\n",
              "     width=\"24px\">\n",
              "    <g>\n",
              "        <path d=\"M19 3H5c-1.1 0-2 .9-2 2v14c0 1.1.9 2 2 2h14c1.1 0 2-.9 2-2V5c0-1.1-.9-2-2-2zM9 17H7v-7h2v7zm4 0h-2V7h2v10zm4 0h-2v-4h2v4z\"/>\n",
              "    </g>\n",
              "</svg>\n",
              "  </button>\n",
              "\n",
              "<style>\n",
              "  .colab-df-quickchart {\n",
              "      --bg-color: #E8F0FE;\n",
              "      --fill-color: #1967D2;\n",
              "      --hover-bg-color: #E2EBFA;\n",
              "      --hover-fill-color: #174EA6;\n",
              "      --disabled-fill-color: #AAA;\n",
              "      --disabled-bg-color: #DDD;\n",
              "  }\n",
              "\n",
              "  [theme=dark] .colab-df-quickchart {\n",
              "      --bg-color: #3B4455;\n",
              "      --fill-color: #D2E3FC;\n",
              "      --hover-bg-color: #434B5C;\n",
              "      --hover-fill-color: #FFFFFF;\n",
              "      --disabled-bg-color: #3B4455;\n",
              "      --disabled-fill-color: #666;\n",
              "  }\n",
              "\n",
              "  .colab-df-quickchart {\n",
              "    background-color: var(--bg-color);\n",
              "    border: none;\n",
              "    border-radius: 50%;\n",
              "    cursor: pointer;\n",
              "    display: none;\n",
              "    fill: var(--fill-color);\n",
              "    height: 32px;\n",
              "    padding: 0;\n",
              "    width: 32px;\n",
              "  }\n",
              "\n",
              "  .colab-df-quickchart:hover {\n",
              "    background-color: var(--hover-bg-color);\n",
              "    box-shadow: 0 1px 2px rgba(60, 64, 67, 0.3), 0 1px 3px 1px rgba(60, 64, 67, 0.15);\n",
              "    fill: var(--button-hover-fill-color);\n",
              "  }\n",
              "\n",
              "  .colab-df-quickchart-complete:disabled,\n",
              "  .colab-df-quickchart-complete:disabled:hover {\n",
              "    background-color: var(--disabled-bg-color);\n",
              "    fill: var(--disabled-fill-color);\n",
              "    box-shadow: none;\n",
              "  }\n",
              "\n",
              "  .colab-df-spinner {\n",
              "    border: 2px solid var(--fill-color);\n",
              "    border-color: transparent;\n",
              "    border-bottom-color: var(--fill-color);\n",
              "    animation:\n",
              "      spin 1s steps(1) infinite;\n",
              "  }\n",
              "\n",
              "  @keyframes spin {\n",
              "    0% {\n",
              "      border-color: transparent;\n",
              "      border-bottom-color: var(--fill-color);\n",
              "      border-left-color: var(--fill-color);\n",
              "    }\n",
              "    20% {\n",
              "      border-color: transparent;\n",
              "      border-left-color: var(--fill-color);\n",
              "      border-top-color: var(--fill-color);\n",
              "    }\n",
              "    30% {\n",
              "      border-color: transparent;\n",
              "      border-left-color: var(--fill-color);\n",
              "      border-top-color: var(--fill-color);\n",
              "      border-right-color: var(--fill-color);\n",
              "    }\n",
              "    40% {\n",
              "      border-color: transparent;\n",
              "      border-right-color: var(--fill-color);\n",
              "      border-top-color: var(--fill-color);\n",
              "    }\n",
              "    60% {\n",
              "      border-color: transparent;\n",
              "      border-right-color: var(--fill-color);\n",
              "    }\n",
              "    80% {\n",
              "      border-color: transparent;\n",
              "      border-right-color: var(--fill-color);\n",
              "      border-bottom-color: var(--fill-color);\n",
              "    }\n",
              "    90% {\n",
              "      border-color: transparent;\n",
              "      border-bottom-color: var(--fill-color);\n",
              "    }\n",
              "  }\n",
              "</style>\n",
              "\n",
              "  <script>\n",
              "    async function quickchart(key) {\n",
              "      const quickchartButtonEl =\n",
              "        document.querySelector('#' + key + ' button');\n",
              "      quickchartButtonEl.disabled = true;  // To prevent multiple clicks.\n",
              "      quickchartButtonEl.classList.add('colab-df-spinner');\n",
              "      try {\n",
              "        const charts = await google.colab.kernel.invokeFunction(\n",
              "            'suggestCharts', [key], {});\n",
              "      } catch (error) {\n",
              "        console.error('Error during call to suggestCharts:', error);\n",
              "      }\n",
              "      quickchartButtonEl.classList.remove('colab-df-spinner');\n",
              "      quickchartButtonEl.classList.add('colab-df-quickchart-complete');\n",
              "    }\n",
              "    (() => {\n",
              "      let quickchartButtonEl =\n",
              "        document.querySelector('#df-702e3ef8-7a5f-40ab-aa4b-fd4be45b6620 button');\n",
              "      quickchartButtonEl.style.display =\n",
              "        google.colab.kernel.accessAllowed ? 'block' : 'none';\n",
              "    })();\n",
              "  </script>\n",
              "</div>\n",
              "\n",
              "    </div>\n",
              "  </div>\n"
            ],
            "text/plain": [
              "              Age    Attack     Block     Serve       Set       Dig   Receive\n",
              "Age      1.000000 -0.177849 -0.101040 -0.108367  0.177757  0.167141 -0.011067\n",
              "Attack  -0.177849  1.000000  0.338412  0.768859 -0.430805 -0.098999  0.169892\n",
              "Block   -0.101040  0.338412  1.000000  0.335954 -0.132019 -0.348347 -0.265206\n",
              "Serve   -0.108367  0.768859  0.335954  1.000000 -0.154815 -0.052501  0.039642\n",
              "Set      0.177757 -0.430805 -0.132019 -0.154815  1.000000  0.131659 -0.305869\n",
              "Dig      0.167141 -0.098999 -0.348347 -0.052501  0.131659  1.000000  0.624733\n",
              "Receive -0.011067  0.169892 -0.265206  0.039642 -0.305869  0.624733  1.000000"
            ]
          },
          "execution_count": 24,
          "metadata": {},
          "output_type": "execute_result"
        }
      ],
      "source": [
        "df.corr(numeric_only=True)"
      ]
    },
    {
      "cell_type": "code",
      "execution_count": null,
      "metadata": {
        "colab": {
          "base_uri": "https://localhost:8080/",
          "height": 410
        },
        "id": "NsFUr7r2cRA3",
        "outputId": "787ab7e0-eb43-49c7-dd78-6ea3d9f540ad"
      },
      "outputs": [
        {
          "data": {
            "image/png": "[encoded data removed]",
            "text/plain": [
              "<Figure size 600x400 with 1 Axes>"
            ]
          },
          "metadata": {},
          "output_type": "display_data"
        }
      ],
      "source": [
        "import pandas as pd\n",
        "df=pd.read_csv('/content/VNL2023.csv')\n",
        "import matplotlib.pyplot as plt\n",
        "plt.figure(figsize=(6,4))\n",
        "\n",
        "plt.bar(df['Age'],df['Attack'])\n",
        "plt.title(\"Bar plot\")\n",
        "plt.xlabel(\"Attack\")\n",
        "plt.ylabel(\"Age\")\n",
        "plt.show()"
      ]
    },
    {
      "cell_type": "code",
      "execution_count": null,
      "metadata": {
        "colab": {
          "base_uri": "https://localhost:8080/",
          "height": 452
        },
        "id": "Gfssz6PXctCW",
        "outputId": "079b4b16-5712-421c-80d4-66f6cd5faa2b"
      },
      "outputs": [
        {
          "data": {
            "image/png": "[encoded data removed]",
            "text/plain": [
              "<Figure size 640x480 with 1 Axes>"
            ]
          },
          "metadata": {},
          "output_type": "display_data"
        }
      ],
      "source": [
        "df.boxplot(column=['Age'])\n",
        "plt.title(\"box plot\")\n",
        "plt.ylabel(\"Age\")\n",
        "plt.show()"
      ]
    },
    {
      "cell_type": "code",
      "execution_count": null,
      "metadata": {
        "colab": {
          "base_uri": "https://localhost:8080/",
          "height": 430
        },
        "id": "Pg_W2YHpdUhl",
        "outputId": "26732b5e-09aa-4e4f-ff46-841ea01a3c1a"
      },
      "outputs": [
        {
          "data": {
            "image/png": "[encoded data removed]",
            "text/plain": [
              "<Figure size 640x480 with 1 Axes>"
            ]
          },
          "metadata": {},
          "output_type": "display_data"
        }
      ],
      "source": [
        "import pandas as pd\n",
        "df=pd.read_csv(\"/content/VNL2023.csv\")\n",
        "import matplotlib.pyplot as plt\n",
        "plt.violinplot(df['Age'])\n",
        "plt.show()"
      ]
    },
    {
      "cell_type": "code",
      "execution_count": null,
      "metadata": {
        "colab": {
          "base_uri": "https://localhost:8080/",
          "height": 526
        },
        "id": "4BPks1y17DdI",
        "outputId": "1fed4568-dd3c-4dc7-9767-51676079ed53"
      },
      "outputs": [
        {
          "ename": "TypeError",
          "evalue": "DataFrame.corr() got an unexpected keyword argument 'numaric_only'",
          "output_type": "error",
          "traceback": [
            "\u001b[0;31m---------------------------------------------------------------------------\u001b[0m",
            "\u001b[0;31mTypeError\u001b[0m                                 Traceback (most recent call last)",
            "\u001b[0;32m<ipython-input-14-cfdf8fe982fb>\u001b[0m in \u001b[0;36m<cell line: 6>\u001b[0;34m()\u001b[0m\n\u001b[1;32m      4\u001b[0m \u001b[0mpath\u001b[0m\u001b[0;34m=\u001b[0m\u001b[0;34m(\u001b[0m\u001b[0;34m\"/content/VNL2023.csv\"\u001b[0m\u001b[0;34m)\u001b[0m\u001b[0;34m\u001b[0m\u001b[0;34m\u001b[0m\u001b[0m\n\u001b[1;32m      5\u001b[0m \u001b[0mdf\u001b[0m\u001b[0;34m=\u001b[0m\u001b[0mpd\u001b[0m\u001b[0;34m.\u001b[0m\u001b[0mread_csv\u001b[0m\u001b[0;34m(\u001b[0m\u001b[0mpath\u001b[0m\u001b[0;34m)\u001b[0m\u001b[0;34m\u001b[0m\u001b[0;34m\u001b[0m\u001b[0m\n\u001b[0;32m----> 6\u001b[0;31m \u001b[0msns\u001b[0m\u001b[0;34m.\u001b[0m\u001b[0mheatmap\u001b[0m\u001b[0;34m(\u001b[0m\u001b[0mdf\u001b[0m\u001b[0;34m.\u001b[0m\u001b[0mcorr\u001b[0m\u001b[0;34m(\u001b[0m\u001b[0mnumaric_only\u001b[0m\u001b[0;34m=\u001b[0m\u001b[0;32mTrue\u001b[0m\u001b[0;34m)\u001b[0m\u001b[0;34m,\u001b[0m \u001b[0mannot\u001b[0m\u001b[0;34m=\u001b[0m\u001b[0;32mTrue\u001b[0m\u001b[0;34m,\u001b[0m \u001b[0mcmap\u001b[0m\u001b[0;34m=\u001b[0m\u001b[0;34m\"YIGnBu\"\u001b[0m\u001b[0;34m)\u001b[0m\u001b[0;34m\u001b[0m\u001b[0;34m\u001b[0m\u001b[0m\n\u001b[0m\u001b[1;32m      7\u001b[0m \u001b[0mplt\u001b[0m\u001b[0;34m.\u001b[0m\u001b[0mxlabel\u001b[0m\u001b[0;34m(\u001b[0m\u001b[0;34m\"column\"\u001b[0m\u001b[0;34m)\u001b[0m\u001b[0;34m\u001b[0m\u001b[0;34m\u001b[0m\u001b[0m\n\u001b[1;32m      8\u001b[0m \u001b[0mplt\u001b[0m\u001b[0;34m.\u001b[0m\u001b[0mylabel\u001b[0m\u001b[0;34m(\u001b[0m\u001b[0;34m\"row\"\u001b[0m\u001b[0;34m)\u001b[0m\u001b[0;34m\u001b[0m\u001b[0;34m\u001b[0m\u001b[0m\n",
            "\u001b[0;31mTypeError\u001b[0m: DataFrame.corr() got an unexpected keyword argument 'numaric_only'"
          ]
        }
      ],
      "source": [
        "import pandas as pd\n",
        "import  matplotlib.pyplot as plt\n",
        "import seaborn as sns\n",
        "path=(\"/content/VNL2023.csv\")\n",
        "df=pd.read_csv(path)\n",
        "sns.heatmap(df.corr(numaric_only=True), annot=True, cmap=\"YIGnBu\")\n",
        "plt.xlabel(\"column\")\n",
        "plt.ylabel(\"row\")\n",
        "plt.title(\"heatmap of correction matrix\")\n",
        "plt.show()"
      ]
    },
    {
      "cell_type": "code",
      "execution_count": null,
      "metadata": {
        "colab": {
          "base_uri": "https://localhost:8080/",
          "height": 323
        },
        "id": "f9x2g3_SHSJe",
        "outputId": "0ac523c3-8db4-42c4-9bed-13cf8cb4502b"
      },
      "outputs": [
        {
          "data": {
            "text/plain": [
              "<seaborn.axisgrid.PairGrid at 0x7a32ef807fd0>"
            ]
          },
          "execution_count": 9,
          "metadata": {},
          "output_type": "execute_result"
        },
        {
          "data": {
            "image/png": "[encoded data removed]",
            "text/plain": [
              "<Figure size 750x750 with 12 Axes>"
            ]
          },
          "metadata": {},
          "output_type": "display_data"
        }
      ],
      "source": [
        "import matplotlib.pyplot as plt\n",
        "import seaborn as sns\n",
        "import pandas as pd\n",
        "path=(\"/content/VNL2023.csv\")\n",
        "data = pd.read_csv(path)\n",
        "\n",
        "sns.pairplot(data, vars=['Age', 'Block', 'Serve'])"
      ]
    },
    {
      "cell_type": "code",
      "execution_count": null,
      "metadata": {
        "colab": {
          "base_uri": "https://localhost:8080/",
          "height": 435
        },
        "id": "ystmUYCXNgIP",
        "outputId": "8aeac4c2-ae13-48bb-d4e6-ad76658037eb"
      },
      "outputs": [
        {
          "data": {
            "image/png": "[encoded data removed]",
            "text/plain": [
              "<Figure size 640x480 with 2 Axes>"
            ]
          },
          "metadata": {},
          "output_type": "display_data"
        }
      ],
      "source": [
        "import matplotlib.pyplot as plt\n",
        "import seaborn as sns\n",
        "import pandas as pd\n",
        "path=(\"/content/VNL2023.csv\")\n",
        "df = pd.read_csv(path)\n",
        "\n",
        "corr_matrix=df.corr(numeric_only=True)\n",
        "\n",
        "sns.heatmap(corr_matrix, annot=True)\n",
        "plt.show()"
      ]
    },
    {
      "cell_type": "code",
      "execution_count": null,
      "metadata": {
        "colab": {
          "base_uri": "https://localhost:8080/",
          "height": 234
        },
        "id": "0tw_qSycbbs_",
        "outputId": "aef3b162-b80e-4f1a-e7d1-14b15428bca7"
      },
      "outputs": [
        {
          "data": {
            "image/png": "[encoded data removed]",
            "text/plain": [
              "<Figure size 640x480 with 1 Axes>"
            ]
          },
          "metadata": {},
          "output_type": "display_data"
        }
      ],
      "source": [
        "import matplotlib.pyplot as plt\n",
        "import seaborn as sns\n",
        "import pandas as pd\n",
        "path=(\"/content/VNL2023.csv\")\n",
        "data = pd.read_csv(path)\n",
        "\n",
        "plt.scatter(data['Age'],data['Block'])\n",
        "plt.title(\"scatter plot\")\n",
        "plt.xlabel(\"Age\")\n",
        "plt.ylabel(\"Block\")\n",
        "plt.show()"
      ]
    },
    {
      "cell_type": "code",
      "execution_count": null,
      "metadata": {
        "colab": {
          "base_uri": "https://localhost:8080/",
          "height": 547
        },
        "id": "C9ZZP5kgtXrL",
        "outputId": "6bbe6dfc-f8c9-49a6-fe32-ffa4872aa17d"
      },
      "outputs": [
        {
          "ename": "KeyError",
          "evalue": "'sales 2Q 2024'",
          "output_type": "error",
          "traceback": [
            "\u001b[0;31m---------------------------------------------------------------------------\u001b[0m",
            "\u001b[0;31mKeyError\u001b[0m                                  Traceback (most recent call last)",
            "\u001b[0;32m/usr/local/lib/python3.10/dist-packages/pandas/core/indexes/base.py\u001b[0m in \u001b[0;36mget_loc\u001b[0;34m(self, key)\u001b[0m\n\u001b[1;32m   3790\u001b[0m         \u001b[0;32mtry\u001b[0m\u001b[0;34m:\u001b[0m\u001b[0;34m\u001b[0m\u001b[0;34m\u001b[0m\u001b[0m\n\u001b[0;32m-> 3791\u001b[0;31m             \u001b[0;32mreturn\u001b[0m \u001b[0mself\u001b[0m\u001b[0;34m.\u001b[0m\u001b[0m_engine\u001b[0m\u001b[0;34m.\u001b[0m\u001b[0mget_loc\u001b[0m\u001b[0;34m(\u001b[0m\u001b[0mcasted_key\u001b[0m\u001b[0;34m)\u001b[0m\u001b[0;34m\u001b[0m\u001b[0;34m\u001b[0m\u001b[0m\n\u001b[0m\u001b[1;32m   3792\u001b[0m         \u001b[0;32mexcept\u001b[0m \u001b[0mKeyError\u001b[0m \u001b[0;32mas\u001b[0m \u001b[0merr\u001b[0m\u001b[0;34m:\u001b[0m\u001b[0;34m\u001b[0m\u001b[0;34m\u001b[0m\u001b[0m\n",
            "\u001b[0;32mindex.pyx\u001b[0m in \u001b[0;36mpandas._libs.index.IndexEngine.get_loc\u001b[0;34m()\u001b[0m\n",
            "\u001b[0;32mindex.pyx\u001b[0m in \u001b[0;36mpandas._libs.index.IndexEngine.get_loc\u001b[0;34m()\u001b[0m\n",
            "\u001b[0;32mpandas/_libs/hashtable_class_helper.pxi\u001b[0m in \u001b[0;36mpandas._libs.hashtable.PyObjectHashTable.get_item\u001b[0;34m()\u001b[0m\n",
            "\u001b[0;32mpandas/_libs/hashtable_class_helper.pxi\u001b[0m in \u001b[0;36mpandas._libs.hashtable.PyObjectHashTable.get_item\u001b[0;34m()\u001b[0m\n",
            "\u001b[0;31mKeyError\u001b[0m: 'sales 2Q 2024'",
            "\nThe above exception was the direct cause of the following exception:\n",
            "\u001b[0;31mKeyError\u001b[0m                                  Traceback (most recent call last)",
            "\u001b[0;32m<ipython-input-7-f9c6e3a911da>\u001b[0m in \u001b[0;36m<cell line: 4>\u001b[0;34m()\u001b[0m\n\u001b[1;32m      2\u001b[0m \u001b[0;32mfrom\u001b[0m \u001b[0mscipy\u001b[0m\u001b[0;34m.\u001b[0m\u001b[0mstats\u001b[0m \u001b[0;32mimport\u001b[0m \u001b[0mchi2_contingency\u001b[0m\u001b[0;34m\u001b[0m\u001b[0;34m\u001b[0m\u001b[0m\n\u001b[1;32m      3\u001b[0m \u001b[0mdf\u001b[0m\u001b[0;34m=\u001b[0m\u001b[0mpd\u001b[0m\u001b[0;34m.\u001b[0m\u001b[0mread_excel\u001b[0m\u001b[0;34m(\u001b[0m\u001b[0;34m'/content/lsg_stats_2024_q2.xlsx'\u001b[0m\u001b[0;34m)\u001b[0m\u001b[0;34m\u001b[0m\u001b[0;34m\u001b[0m\u001b[0m\n\u001b[0;32m----> 4\u001b[0;31m \u001b[0mcontingency_table\u001b[0m\u001b[0;34m=\u001b[0m\u001b[0mpd\u001b[0m\u001b[0;34m.\u001b[0m\u001b[0mcrosstab\u001b[0m\u001b[0;34m(\u001b[0m\u001b[0mdf\u001b[0m\u001b[0;34m[\u001b[0m\u001b[0;34m'Sales 2Q 2023'\u001b[0m\u001b[0;34m]\u001b[0m\u001b[0;34m,\u001b[0m \u001b[0mdf\u001b[0m\u001b[0;34m[\u001b[0m\u001b[0;34m'sales 2Q 2024'\u001b[0m\u001b[0;34m]\u001b[0m\u001b[0;34m)\u001b[0m\u001b[0;34m\u001b[0m\u001b[0;34m\u001b[0m\u001b[0m\n\u001b[0m\u001b[1;32m      5\u001b[0m \u001b[0mchi2\u001b[0m\u001b[0;34m,\u001b[0m \u001b[0mp\u001b[0m\u001b[0;34m,\u001b[0m \u001b[0mdof\u001b[0m\u001b[0;34m,\u001b[0m \u001b[0mex\u001b[0m \u001b[0;34m=\u001b[0m \u001b[0mchi2_contingency\u001b[0m\u001b[0;34m(\u001b[0m\u001b[0mcontingency_table\u001b[0m\u001b[0;34m)\u001b[0m\u001b[0;34m\u001b[0m\u001b[0;34m\u001b[0m\u001b[0m\n\u001b[1;32m      6\u001b[0m \u001b[0mprint\u001b[0m\u001b[0;34m(\u001b[0m\u001b[0;34mf\"Chi-Square Test of Independent: chi2={chi2}, p={p}, dog={dof}, expected={ex}\"\u001b[0m\u001b[0;34m)\u001b[0m\u001b[0;34m\u001b[0m\u001b[0;34m\u001b[0m\u001b[0m\n",
            "\u001b[0;32m/usr/local/lib/python3.10/dist-packages/pandas/core/frame.py\u001b[0m in \u001b[0;36m__getitem__\u001b[0;34m(self, key)\u001b[0m\n\u001b[1;32m   3891\u001b[0m             \u001b[0;32mif\u001b[0m \u001b[0mself\u001b[0m\u001b[0;34m.\u001b[0m\u001b[0mcolumns\u001b[0m\u001b[0;34m.\u001b[0m\u001b[0mnlevels\u001b[0m \u001b[0;34m>\u001b[0m \u001b[0;36m1\u001b[0m\u001b[0;34m:\u001b[0m\u001b[0;34m\u001b[0m\u001b[0;34m\u001b[0m\u001b[0m\n\u001b[1;32m   3892\u001b[0m                 \u001b[0;32mreturn\u001b[0m \u001b[0mself\u001b[0m\u001b[0;34m.\u001b[0m\u001b[0m_getitem_multilevel\u001b[0m\u001b[0;34m(\u001b[0m\u001b[0mkey\u001b[0m\u001b[0;34m)\u001b[0m\u001b[0;34m\u001b[0m\u001b[0;34m\u001b[0m\u001b[0m\n\u001b[0;32m-> 3893\u001b[0;31m             \u001b[0mindexer\u001b[0m \u001b[0;34m=\u001b[0m \u001b[0mself\u001b[0m\u001b[0;34m.\u001b[0m\u001b[0mcolumns\u001b[0m\u001b[0;34m.\u001b[0m\u001b[0mget_loc\u001b[0m\u001b[0;34m(\u001b[0m\u001b[0mkey\u001b[0m\u001b[0;34m)\u001b[0m\u001b[0;34m\u001b[0m\u001b[0;34m\u001b[0m\u001b[0m\n\u001b[0m\u001b[1;32m   3894\u001b[0m             \u001b[0;32mif\u001b[0m \u001b[0mis_integer\u001b[0m\u001b[0;34m(\u001b[0m\u001b[0mindexer\u001b[0m\u001b[0;34m)\u001b[0m\u001b[0;34m:\u001b[0m\u001b[0;34m\u001b[0m\u001b[0;34m\u001b[0m\u001b[0m\n\u001b[1;32m   3895\u001b[0m                 \u001b[0mindexer\u001b[0m \u001b[0;34m=\u001b[0m \u001b[0;34m[\u001b[0m\u001b[0mindexer\u001b[0m\u001b[0;34m]\u001b[0m\u001b[0;34m\u001b[0m\u001b[0;34m\u001b[0m\u001b[0m\n",
            "\u001b[0;32m/usr/local/lib/python3.10/dist-packages/pandas/core/indexes/base.py\u001b[0m in \u001b[0;36mget_loc\u001b[0;34m(self, key)\u001b[0m\n\u001b[1;32m   3796\u001b[0m             ):\n\u001b[1;32m   3797\u001b[0m                 \u001b[0;32mraise\u001b[0m \u001b[0mInvalidIndexError\u001b[0m\u001b[0;34m(\u001b[0m\u001b[0mkey\u001b[0m\u001b[0;34m)\u001b[0m\u001b[0;34m\u001b[0m\u001b[0;34m\u001b[0m\u001b[0m\n\u001b[0;32m-> 3798\u001b[0;31m             \u001b[0;32mraise\u001b[0m \u001b[0mKeyError\u001b[0m\u001b[0;34m(\u001b[0m\u001b[0mkey\u001b[0m\u001b[0;34m)\u001b[0m \u001b[0;32mfrom\u001b[0m \u001b[0merr\u001b[0m\u001b[0;34m\u001b[0m\u001b[0;34m\u001b[0m\u001b[0m\n\u001b[0m\u001b[1;32m   3799\u001b[0m         \u001b[0;32mexcept\u001b[0m \u001b[0mTypeError\u001b[0m\u001b[0;34m:\u001b[0m\u001b[0;34m\u001b[0m\u001b[0;34m\u001b[0m\u001b[0m\n\u001b[1;32m   3800\u001b[0m             \u001b[0;31m# If we have a listlike key, _check_indexing_error will raise\u001b[0m\u001b[0;34m\u001b[0m\u001b[0;34m\u001b[0m\u001b[0m\n",
            "\u001b[0;31mKeyError\u001b[0m: 'sales 2Q 2024'"
          ]
        }
      ],
      "source": [
        "import pandas as pd\n",
        "from scipy.stats import chi2_contingency\n",
        "df=pd.read_excel('/content/lsg_stats_2024_q2.xlsx')\n",
        "contingency_table=pd.crosstab(df['Sales 2Q 2023'], df['sales 2Q 2024'])\n",
        "chi2, p, dof, ex = chi2_contingency(contingency_table)\n",
        "print(f\"Chi-Square Test of Independent: chi2={chi2}, p={p}, dog={dof}, expected={ex}\")"
      ]
    },
    {
      "cell_type": "code",
      "execution_count": null,
      "metadata": {
        "colab": {
          "base_uri": "https://localhost:8080/"
        },
        "id": "GBpNQbWcwHIj",
        "outputId": "6da34039-2861-4f49-c0fb-6ab403be43a8"
      },
      "outputs": [
        {
          "name": "stdout",
          "output_type": "stream",
          "text": [
            "Chi-Square Test of Independent: chi2=7481.421499787866, p=0.0, dog=2346, expected=[[1.29946524 1.51604278 1.66042781 ... 0.07219251 0.07219251 0.07219251]\n",
            " [1.05882353 1.23529412 1.35294118 ... 0.05882353 0.05882353 0.05882353]\n",
            " [1.39572193 1.62834225 1.78342246 ... 0.07754011 0.07754011 0.07754011]\n",
            " ...\n",
            " [0.04812834 0.05614973 0.06149733 ... 0.0026738  0.0026738  0.0026738 ]\n",
            " [0.04812834 0.05614973 0.06149733 ... 0.0026738  0.0026738  0.0026738 ]\n",
            " [0.04812834 0.05614973 0.06149733 ... 0.0026738  0.0026738  0.0026738 ]]\n"
          ]
        }
      ],
      "source": [
        "import pandas as pd\n",
        "from scipy.stats import chi2_contingency\n",
        "df=pd.read_excel('/content/lsg_stats_2024_q2.xlsx')\n",
        "contingency_table=pd.crosstab(df['Sales 2Q 2023'],df['Sales 2Q 2024'])\n",
        "chi2, p, dof, ex = chi2_contingency(contingency_table)\n",
        "print(f\"Chi-Square Test of Independent: chi2={chi2}, p={p}, dog={dof}, expected={ex}\")"
      ]
    },
    {
      "cell_type": "code",
      "execution_count": null,
      "metadata": {
        "colab": {
          "base_uri": "https://localhost:8080/"
        },
        "id": "Vcf2YHNjyHp0",
        "outputId": "67c0b147-a24c-4b77-9efc-6de5731f6042"
      },
      "outputs": [
        {
          "name": "stdout",
          "output_type": "stream",
          "text": [
            "one way ANOVA\n",
            "f_value:nan\n",
            "p_value:nan\n"
          ]
        }
      ],
      "source": [
        "import pandas as pd\n",
        "path=(\"/content/lsg_stats_2024_q2.xlsx\")\n",
        "df=pd.read_excel(path)\n",
        "from scipy import stats\n",
        "f_value,p_value=stats.f_oneway(df['Sales 2Q 2023'],df['Sales 2Q 2024'],df[\"Median 2Q 2024\"])\n",
        "print(\"one way ANOVA\")\n",
        "print(f\"f_value:{f_value}\")\n",
        "print(f\"p_value:{p_value}\")"
      ]
    },
    {
      "cell_type": "code",
      "execution_count": null,
      "metadata": {
        "colab": {
          "base_uri": "https://localhost:8080/"
        },
        "id": "5fGxme2Tyu_C",
        "outputId": "d50cf566-f2da-4d0d-db20-8941b439dc94"
      },
      "outputs": [
        {
          "name": "stdout",
          "output_type": "stream",
          "text": [
            "One-sample t-test: t_stat=nan, p_val=nan\n"
          ]
        }
      ],
      "source": [
        "import pandas as pd\n",
        "import scipy.stats as stats\n",
        "df=pd.read_excel('/content/lsg_stats_2024_q2.xlsx')\n",
        "Sales_df=df['Sales 2Q 2023'].values\n",
        "t_stat, p_val=stats.ttest_1samp(Sales_df, popmean=0)\n",
        "print(f\"One-sample t-test: t_stat={t_stat}, p_val={p_val}\")"
      ]
    },
    {
      "cell_type": "code",
      "execution_count": null,
      "metadata": {
        "colab": {
          "base_uri": "https://localhost:8080/"
        },
        "id": "yRbpg27DzH56",
        "outputId": "dd3f87f5-4643-4182-9ba8-6061cefdabb6"
      },
      "outputs": [
        {
          "name": "stdout",
          "output_type": "stream",
          "text": [
            "kruskal-wallis Test:H_stat=2.0,P_val0.36787944117144245\n"
          ]
        }
      ],
      "source": [
        "from scipy.stats import kruskal\n",
        "df=pd.read_excel(\"/content/lsg_stats_2024_q2.xlsx\")\n",
        "h_stat, p_val = kruskal(\"Sales 2Q 2023\",\"Sales 2Q 2024\",\"Median 2Q 2023\")\n",
        "print(f\"kruskal-wallis Test:H_stat={h_stat},P_val{p_val}\")"
      ]
    },
    {
      "cell_type": "code",
      "execution_count": null,
      "metadata": {
        "colab": {
          "base_uri": "https://localhost:8080/"
        },
        "id": "4xPTvNZp0eeS",
        "outputId": "17ae03f0-c64a-4444-be21-28eac20ecb1d"
      },
      "outputs": [
        {
          "name": "stdout",
          "output_type": "stream",
          "text": [
            "f_value:nan\n",
            "p_value:nan\n"
          ]
        }
      ],
      "source": [
        "import pandas as pd\n",
        "path=(\"/content/lsg_stats_2024_q2.xlsx\")\n",
        "df=pd.read_excel(path)\n",
        "from scipy import stats\n",
        "group=df.groupby('Sales 2Q 2023')['Sales 2Q 2024'].apply(list)\n",
        "f_value, p_value=stats.f_oneway(*group)\n",
        "print(f\"f_value:{f_value}\")\n",
        "print(f\"p_value:{p_value}\")"
      ]
    },
    {
      "cell_type": "code",
      "execution_count": null,
      "metadata": {
        "colab": {
          "base_uri": "https://localhost:8080/",
          "height": 176
        },
        "id": "0B5T4N6H6lV8",
        "outputId": "20e06779-f8b2-4a69-e116-178ca63f8cd5"
      },
      "outputs": [
        {
          "output_type": "error",
          "ename": "SyntaxError",
          "evalue": "cannot assign to expression here. Maybe you meant '==' instead of '='? (<ipython-input-4-6bf1bcff155e>, line 7)",
          "traceback": [
            "\u001b[0;36m  File \u001b[0;32m\"<ipython-input-4-6bf1bcff155e>\"\u001b[0;36m, line \u001b[0;32m7\u001b[0m\n\u001b[0;31m    z-score=(value-mean-price)/std_price\u001b[0m\n\u001b[0m    ^\u001b[0m\n\u001b[0;31mSyntaxError\u001b[0m\u001b[0;31m:\u001b[0m cannot assign to expression here. Maybe you meant '==' instead of '='?\n"
          ]
        }
      ],
      "source": [
        "import pandas as pd\n",
        "from scipy.stats import norm\n",
        "df=pd.read_excel(\"/content/Excel viewer - transform and filter Excel files online with AI (6).xlsx\")\n",
        "mean_gdpp=df[\"price\"].mean()\n",
        "std_gdpp=df[\"price\"].std()\n",
        "value=30000\n",
        "z-score=(value-mean-price)/std_price\n",
        "probability=1-norm.cdf(z-score)\n",
        "print(\"probability price greater than ${value}:{probability:2%}\")"
      ]
    },
    {
      "cell_type": "code",
      "source": [
        "import pandas as pd\n",
        "from scipy.stats import norm\n",
        "df=pd.read_excel(\"/content/Excel viewer - transform and filter Excel files online with AI (6).xlsx\")\n",
        "mean_area=df[\"area\"].mean()\n",
        "std_area=df[\"area\"].std()\n",
        "value=3000\n",
        "z_score=(value-mean_area)/std_area\n",
        "probability=1-norm.cdf(z_score)\n",
        "print(f\"probability area greater than ${value}:{probability:.2%}\")"
      ],
      "metadata": {
        "colab": {
          "base_uri": "https://localhost:8080/"
        },
        "id": "2_f5iShIGAoT",
        "outputId": "b0b6cad9-08b8-48e9-d5c6-920d92966704"
      },
      "execution_count": null,
      "outputs": [
        {
          "output_type": "stream",
          "name": "stdout",
          "text": [
            "probability area greater than $3000:85.58%\n"
          ]
        }
      ]
    },
    {
      "cell_type": "code",
      "source": [
        "import pandas as pd\n",
        "from scipy.stats import norm\n",
        "df=pd.read_csv(\"/content/VNL2023.csv\")\n",
        "mean_Age=df[\"Age\"].mean()\n",
        "std_Age=df[\"Age\"].std()\n",
        "value=20\n",
        "z_score=(value-mean_Age)/std_Age\n",
        "probability=1-norm.cdf(z_score)\n",
        "print(f\"probability Age  greater than ${value}:{probability:.2%}\")"
      ],
      "metadata": {
        "colab": {
          "base_uri": "https://localhost:8080/"
        },
        "id": "1N2JHN1EIZ4n",
        "outputId": "2b6d2792-f338-480b-f309-7aae87788278"
      },
      "execution_count": null,
      "outputs": [
        {
          "output_type": "stream",
          "name": "stdout",
          "text": [
            "probability Age  greater than $20:96.89%\n"
          ]
        }
      ]
    },
    {
      "cell_type": "code",
      "source": [
        "import pandas as pd\n",
        "df=pd.read_excel(\"/content/Excel viewer - transform and filter Excel files online with AI (6).xlsx\")\n",
        "print(df.columns)\n",
        "total_count=df['price'].sum()\n",
        "df[\"probablity\"]=df[\"price\"]/total_count\n",
        "print(df)"
      ],
      "metadata": {
        "colab": {
          "base_uri": "https://localhost:8080/"
        },
        "id": "YgG9T3H6IMc3",
        "outputId": "2011e23d-4544-426a-8bac-d1606662431e",
        "collapsed": true
      },
      "execution_count": null,
      "outputs": [
        {
          "output_type": "stream",
          "name": "stdout",
          "text": [
            "Index(['price', 'area', 'bedrooms', 'bathrooms', 'stories', 'mainroad',\n",
            "       'guestroom', 'basement', 'hotwaterheating', 'airconditioning',\n",
            "       'parking', 'prefarea', 'furnishingstatus'],\n",
            "      dtype='object')\n",
            "        price  area  bedrooms  bathrooms  stories mainroad guestroom basement  \\\n",
            "0    13300000  7420         4          2        3      yes        no       no   \n",
            "1    12250000  8960         4          4        4      yes        no       no   \n",
            "2    12250000  9960         3          2        2      yes        no      yes   \n",
            "3    12215000  7500         4          2        2      yes        no      yes   \n",
            "4    11410000  7420         4          1        2      yes       yes      yes   \n",
            "..        ...   ...       ...        ...      ...      ...       ...      ...   \n",
            "495   2730000  4000         3          1        2      yes        no       no   \n",
            "496   2695000  4000         2          1        1      yes        no       no   \n",
            "497   2660000  3934         2          1        1      yes        no       no   \n",
            "498   2660000  2000         2          1        2      yes        no       no   \n",
            "499   2660000  3630         3          3        2       no       yes       no   \n",
            "\n",
            "    hotwaterheating airconditioning  parking prefarea furnishingstatus  \\\n",
            "0                no             yes        2      yes        furnished   \n",
            "1                no             yes        3       no        furnished   \n",
            "2                no              no        2      yes   semi-furnished   \n",
            "3                no             yes        3      yes        furnished   \n",
            "4                no             yes        2       no        furnished   \n",
            "..              ...             ...      ...      ...              ...   \n",
            "495              no              no        1       no      unfurnished   \n",
            "496              no              no        0       no      unfurnished   \n",
            "497              no              no        0       no      unfurnished   \n",
            "498              no              no        0       no   semi-furnished   \n",
            "499              no              no        0       no      unfurnished   \n",
            "\n",
            "     probablity  \n",
            "0      0.005333  \n",
            "1      0.004912  \n",
            "2      0.004912  \n",
            "3      0.004898  \n",
            "4      0.004575  \n",
            "..          ...  \n",
            "495    0.001095  \n",
            "496    0.001081  \n",
            "497    0.001067  \n",
            "498    0.001067  \n",
            "499    0.001067  \n",
            "\n",
            "[500 rows x 14 columns]\n"
          ]
        }
      ]
    },
    {
      "cell_type": "code",
      "source": [
        "import pandas as pd\n",
        "df=pd.read_excel(\"/content/Excel viewer - transform and filter Excel files online with AI (6).xlsx\")\n",
        "print(df.columns)\n",
        "total_count=df['price'].sum()\n",
        "df[\"probablity\"]=df[\"price\"]/total_count\n",
        "print(df)"
      ],
      "metadata": {
        "id": "3pMPG3qqNG4Z",
        "outputId": "f274a528-81eb-4e60-a376-b3f618ee08b3",
        "colab": {
          "base_uri": "https://localhost:8080/"
        }
      },
      "execution_count": null,
      "outputs": [
        {
          "output_type": "stream",
          "name": "stdout",
          "text": [
            "Index(['price', 'area', 'bedrooms', 'bathrooms', 'stories', 'mainroad',\n",
            "       'guestroom', 'basement', 'hotwaterheating', 'airconditioning',\n",
            "       'parking', 'prefarea', 'furnishingstatus'],\n",
            "      dtype='object')\n",
            "        price  area  bedrooms  bathrooms  stories mainroad guestroom basement  \\\n",
            "0    13300000  7420         4          2        3      yes        no       no   \n",
            "1    12250000  8960         4          4        4      yes        no       no   \n",
            "2    12250000  9960         3          2        2      yes        no      yes   \n",
            "3    12215000  7500         4          2        2      yes        no      yes   \n",
            "4    11410000  7420         4          1        2      yes       yes      yes   \n",
            "..        ...   ...       ...        ...      ...      ...       ...      ...   \n",
            "495   2730000  4000         3          1        2      yes        no       no   \n",
            "496   2695000  4000         2          1        1      yes        no       no   \n",
            "497   2660000  3934         2          1        1      yes        no       no   \n",
            "498   2660000  2000         2          1        2      yes        no       no   \n",
            "499   2660000  3630         3          3        2       no       yes       no   \n",
            "\n",
            "    hotwaterheating airconditioning  parking prefarea furnishingstatus  \\\n",
            "0                no             yes        2      yes        furnished   \n",
            "1                no             yes        3       no        furnished   \n",
            "2                no              no        2      yes   semi-furnished   \n",
            "3                no             yes        3      yes        furnished   \n",
            "4                no             yes        2       no        furnished   \n",
            "..              ...             ...      ...      ...              ...   \n",
            "495              no              no        1       no      unfurnished   \n",
            "496              no              no        0       no      unfurnished   \n",
            "497              no              no        0       no      unfurnished   \n",
            "498              no              no        0       no   semi-furnished   \n",
            "499              no              no        0       no      unfurnished   \n",
            "\n",
            "     probablity  \n",
            "0      0.005333  \n",
            "1      0.004912  \n",
            "2      0.004912  \n",
            "3      0.004898  \n",
            "4      0.004575  \n",
            "..          ...  \n",
            "495    0.001095  \n",
            "496    0.001081  \n",
            "497    0.001067  \n",
            "498    0.001067  \n",
            "499    0.001067  \n",
            "\n",
            "[500 rows x 14 columns]\n"
          ]
        }
      ]
    },
    {
      "cell_type": "code",
      "source": [
        "import pandas as pd\n",
        "df=pd.read_csv(\"/content/VNL2023.csv\")\n",
        "print(df.columns)\n",
        "total_count=df['Age'].sum()\n",
        "df[\"probablity\"]=df[\"Age\"]/total_count\n",
        "print(df)"
      ],
      "metadata": {
        "colab": {
          "base_uri": "https://localhost:8080/"
        },
        "id": "NmAVuWNoJYsU",
        "outputId": "62aca845-24e2-478a-a1d1-5980656d28d2"
      },
      "execution_count": null,
      "outputs": [
        {
          "output_type": "stream",
          "name": "stdout",
          "text": [
            "Index(['Player', 'Country', 'Age', 'Attack', 'Block', 'Serve', 'Set', 'Dig',\n",
            "       'Receive', 'Position'],\n",
            "      dtype='object')\n",
            "                          Player    Country  Age  Attack  Block  Serve   Set  \\\n",
            "0                  Ichikawa Yuki      Japan   28   15.80   1.13   1.40  0.07   \n",
            "1                    Romano Yuri      Italy   26   12.33   1.07   1.47  0.00   \n",
            "2               Abdel-Aziz Nimir  Nederland   31   15.33   0.67   2.08  0.00   \n",
            "3            Herrera Jaime Jesus       Cuba   28   15.00   0.92   1.75  0.00   \n",
            "4                  Takahashi Ran      Japan   22   11.53   0.67   1.00  0.07   \n",
            "..                           ...        ...  ...     ...    ...    ...   ...   \n",
            "126               Graven Leonard    Germany   19    0.00   0.00   0.00  0.00   \n",
            "127                 Balaso Fabio      Italy   28    0.00   0.00   0.00  0.00   \n",
            "128      Nacsimento Maique Reis      Brazil   26    0.00   0.00   0.00  0.00   \n",
            "129  Garcia Alvarez Yonder Roman       Cuba   30    0.00   0.00   0.00  0.00   \n",
            "130              Salparov Teodor   Bulgaria   41    0.00   0.00   0.00  0.00   \n",
            "\n",
            "       Dig  Receive Position  probablity  \n",
            "0     4.80     5.60       OH    0.007686  \n",
            "1     3.87     0.00       OP    0.007137  \n",
            "2     3.17     0.25       OP    0.008509  \n",
            "3     3.33     0.17       OP    0.007686  \n",
            "4     6.40     5.07       OH    0.006039  \n",
            "..     ...      ...      ...         ...  \n",
            "126   5.92     1.92        L    0.005215  \n",
            "127  10.00     5.00        L    0.007686  \n",
            "128   5.08     2.46        L    0.007137  \n",
            "129   4.25     3.25        L    0.008235  \n",
            "130   5.00     3.75        L    0.011254  \n",
            "\n",
            "[131 rows x 11 columns]\n"
          ]
        }
      ]
    }
  ],
  "metadata": {
    "colab": {
      "provenance": [],
      "authorship_tag": "ABX9TyOytd9PlOHtVTM1SkM8bLkR",
      "include_colab_link": true
    },
    "kernelspec": {
      "display_name": "Python 3",
      "name": "python3"
    },
    "language_info": {
      "name": "python"
    }
  },
  "nbformat": 4,
  "nbformat_minor": 0
}